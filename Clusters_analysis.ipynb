{
  "nbformat": 4,
  "nbformat_minor": 0,
  "metadata": {
    "colab": {
      "name": "RBC-Case Competition - Clusters Interpretation.ipynb",
      "provenance": [],
      "collapsed_sections": [],
      "toc_visible": true
    },
    "kernelspec": {
      "name": "python3",
      "display_name": "Python 3"
    }
  },
  "cells": [
    {
      "cell_type": "markdown",
      "metadata": {
        "id": "5QkRt_DlyHNx"
      },
      "source": [
        "In this workbook, I have calculated the summary of the clusters which can be used analysed for the business use. \n",
        "\n",
        "For example, we have three segements of clients belonging to different income categories"
      ]
    },
    {
      "cell_type": "code",
      "metadata": {
        "id": "aMdJhx8Wsg8H"
      },
      "source": [
        "# Import relevant libraries\n",
        "import pandas as pd\n",
        "import numpy as np\n",
        "import matplotlib.pyplot as plt\n",
        "import seaborn as sns\n",
        "from sklearn.cluster import KMeans, DBSCAN, AgglomerativeClustering\n",
        "\n",
        "from IPython.core.interactiveshell import InteractiveShell\n",
        "InteractiveShell.ast_node_interactivity = \"all\"\n",
        "pd.set_option('display.max_rows', None)"
      ],
      "execution_count": null,
      "outputs": []
    },
    {
      "cell_type": "markdown",
      "metadata": {
        "id": "cjCB8ZtGtcVs"
      },
      "source": [
        ""
      ]
    },
    {
      "cell_type": "markdown",
      "metadata": {
        "id": "8tiRqt0SLi9P"
      },
      "source": [
        "## **Table Gen_members_all**"
      ]
    },
    {
      "cell_type": "code",
      "metadata": {
        "id": "Oe4vAc-myLRK",
        "colab": {
          "base_uri": "https://localhost:8080/",
          "height": 298
        },
        "outputId": "2a7aa260-406a-4353-baa3-73c3a3b2be69"
      },
      "source": [
        "# Import the dataset \n",
        "#df1 = pd.read_csv(\"Dataset_R&C.csv\")\n",
        "df1 = pd.read_excel(\"Dataset_R&C.xlsx\")\n",
        "df1.head(4)\n",
        "df1.shape"
      ],
      "execution_count": null,
      "outputs": [
        {
          "output_type": "execute_result",
          "data": {
            "text/html": [
              "<div>\n",
              "<style scoped>\n",
              "    .dataframe tbody tr th:only-of-type {\n",
              "        vertical-align: middle;\n",
              "    }\n",
              "\n",
              "    .dataframe tbody tr th {\n",
              "        vertical-align: top;\n",
              "    }\n",
              "\n",
              "    .dataframe thead th {\n",
              "        text-align: right;\n",
              "    }\n",
              "</style>\n",
              "<table border=\"1\" class=\"dataframe\">\n",
              "  <thead>\n",
              "    <tr style=\"text-align: right;\">\n",
              "      <th></th>\n",
              "      <th>Client ID Number</th>\n",
              "      <th>Campaign Response</th>\n",
              "      <th>Customer_Age</th>\n",
              "      <th>Gender</th>\n",
              "      <th>Education_Level</th>\n",
              "      <th>Marital_Status</th>\n",
              "      <th>Income_Category</th>\n",
              "      <th>Card_Category</th>\n",
              "      <th>Months_on_book</th>\n",
              "      <th>Total_Relationship_Count</th>\n",
              "      <th>Months_Inactive_12_mon</th>\n",
              "      <th>Contacts_Count_12_mon</th>\n",
              "      <th>Credit_Limit</th>\n",
              "      <th>Total_Revolving_Bal</th>\n",
              "      <th>Avg_Open_To_Buy</th>\n",
              "      <th>Total_Amt_Chng_Q4_Q1</th>\n",
              "      <th>Total_Trans_Amt</th>\n",
              "      <th>Total_Trans_Ct</th>\n",
              "      <th>Total_Ct_Chng_Q4_Q1</th>\n",
              "      <th>Avg_Utilization_Ratio</th>\n",
              "      <th>Revenue_balance interest</th>\n",
              "      <th>Revenue_interchange</th>\n",
              "      <th>Revenue_Annual Fee</th>\n",
              "      <th>Cost_Rewards</th>\n",
              "      <th>Cost_Incentive</th>\n",
              "      <th>Cost_Fund_assume3%</th>\n",
              "      <th>Total_Revenue</th>\n",
              "      <th>Total_Cost</th>\n",
              "      <th>Profit</th>\n",
              "    </tr>\n",
              "  </thead>\n",
              "  <tbody>\n",
              "    <tr>\n",
              "      <th>0</th>\n",
              "      <td>768805383</td>\n",
              "      <td>Did Not Respond</td>\n",
              "      <td>45</td>\n",
              "      <td>M</td>\n",
              "      <td>High School</td>\n",
              "      <td>Married</td>\n",
              "      <td>$60K - $80K</td>\n",
              "      <td>Rewards Basic</td>\n",
              "      <td>39</td>\n",
              "      <td>5</td>\n",
              "      <td>1</td>\n",
              "      <td>3</td>\n",
              "      <td>12691.00</td>\n",
              "      <td>777</td>\n",
              "      <td>11914.00</td>\n",
              "      <td>1.33</td>\n",
              "      <td>1144</td>\n",
              "      <td>42</td>\n",
              "      <td>1.62</td>\n",
              "      <td>0.06</td>\n",
              "      <td>155.32</td>\n",
              "      <td>14.30</td>\n",
              "      <td>0</td>\n",
              "      <td>4.09</td>\n",
              "      <td>25.00</td>\n",
              "      <td>23.31</td>\n",
              "      <td>169.62</td>\n",
              "      <td>52.40</td>\n",
              "      <td>117.23</td>\n",
              "    </tr>\n",
              "    <tr>\n",
              "      <th>1</th>\n",
              "      <td>818770008</td>\n",
              "      <td>Did Not Respond</td>\n",
              "      <td>49</td>\n",
              "      <td>F</td>\n",
              "      <td>Graduate</td>\n",
              "      <td>Single</td>\n",
              "      <td>Less than $40K</td>\n",
              "      <td>Rewards Basic</td>\n",
              "      <td>44</td>\n",
              "      <td>6</td>\n",
              "      <td>1</td>\n",
              "      <td>2</td>\n",
              "      <td>8256.00</td>\n",
              "      <td>864</td>\n",
              "      <td>7392.00</td>\n",
              "      <td>1.54</td>\n",
              "      <td>1291</td>\n",
              "      <td>33</td>\n",
              "      <td>3.71</td>\n",
              "      <td>0.10</td>\n",
              "      <td>172.71</td>\n",
              "      <td>16.14</td>\n",
              "      <td>0</td>\n",
              "      <td>4.61</td>\n",
              "      <td>25.00</td>\n",
              "      <td>25.92</td>\n",
              "      <td>188.85</td>\n",
              "      <td>55.53</td>\n",
              "      <td>133.32</td>\n",
              "    </tr>\n",
              "    <tr>\n",
              "      <th>2</th>\n",
              "      <td>713982108</td>\n",
              "      <td>Did Not Respond</td>\n",
              "      <td>51</td>\n",
              "      <td>M</td>\n",
              "      <td>Graduate</td>\n",
              "      <td>Married</td>\n",
              "      <td>$80K - $120K</td>\n",
              "      <td>Rewards Basic</td>\n",
              "      <td>36</td>\n",
              "      <td>4</td>\n",
              "      <td>1</td>\n",
              "      <td>0</td>\n",
              "      <td>3418.00</td>\n",
              "      <td>0</td>\n",
              "      <td>3418.00</td>\n",
              "      <td>2.59</td>\n",
              "      <td>1887</td>\n",
              "      <td>20</td>\n",
              "      <td>2.33</td>\n",
              "      <td>0.00</td>\n",
              "      <td>0.00</td>\n",
              "      <td>23.59</td>\n",
              "      <td>0</td>\n",
              "      <td>6.74</td>\n",
              "      <td>25.00</td>\n",
              "      <td>0.00</td>\n",
              "      <td>23.59</td>\n",
              "      <td>31.74</td>\n",
              "      <td>-8.15</td>\n",
              "    </tr>\n",
              "    <tr>\n",
              "      <th>3</th>\n",
              "      <td>769911858</td>\n",
              "      <td>Did Not Respond</td>\n",
              "      <td>40</td>\n",
              "      <td>F</td>\n",
              "      <td>High School</td>\n",
              "      <td>Unknown</td>\n",
              "      <td>Less than $40K</td>\n",
              "      <td>Rewards Basic</td>\n",
              "      <td>34</td>\n",
              "      <td>3</td>\n",
              "      <td>4</td>\n",
              "      <td>1</td>\n",
              "      <td>3313.00</td>\n",
              "      <td>2517</td>\n",
              "      <td>796.00</td>\n",
              "      <td>1.41</td>\n",
              "      <td>1171</td>\n",
              "      <td>20</td>\n",
              "      <td>2.33</td>\n",
              "      <td>0.76</td>\n",
              "      <td>503.15</td>\n",
              "      <td>14.64</td>\n",
              "      <td>0</td>\n",
              "      <td>4.18</td>\n",
              "      <td>25.00</td>\n",
              "      <td>75.51</td>\n",
              "      <td>517.79</td>\n",
              "      <td>104.69</td>\n",
              "      <td>413.09</td>\n",
              "    </tr>\n",
              "  </tbody>\n",
              "</table>\n",
              "</div>"
            ],
            "text/plain": [
              "   Client ID Number Campaign Response  ...  Total_Cost Profit\n",
              "0         768805383   Did Not Respond  ...       52.40 117.23\n",
              "1         818770008   Did Not Respond  ...       55.53 133.32\n",
              "2         713982108   Did Not Respond  ...       31.74  -8.15\n",
              "3         769911858   Did Not Respond  ...      104.69 413.09\n",
              "\n",
              "[4 rows x 29 columns]"
            ]
          },
          "metadata": {
            "tags": []
          },
          "execution_count": 82
        },
        {
          "output_type": "execute_result",
          "data": {
            "text/plain": [
              "(10127, 29)"
            ]
          },
          "metadata": {
            "tags": []
          },
          "execution_count": 82
        }
      ]
    },
    {
      "cell_type": "code",
      "metadata": {
        "id": "aFIeLEK5DJ-I"
      },
      "source": [
        "pie = pd.DataFrame(df1[\"Campaign Response\"].value_counts())"
      ],
      "execution_count": null,
      "outputs": []
    },
    {
      "cell_type": "code",
      "metadata": {
        "colab": {
          "base_uri": "https://localhost:8080/",
          "height": 112
        },
        "id": "sQjmDMHKD_k5",
        "outputId": "92d01c74-e7bf-4b11-a22c-28964ef98b06"
      },
      "source": [
        "pie"
      ],
      "execution_count": null,
      "outputs": [
        {
          "output_type": "execute_result",
          "data": {
            "text/html": [
              "<div>\n",
              "<style scoped>\n",
              "    .dataframe tbody tr th:only-of-type {\n",
              "        vertical-align: middle;\n",
              "    }\n",
              "\n",
              "    .dataframe tbody tr th {\n",
              "        vertical-align: top;\n",
              "    }\n",
              "\n",
              "    .dataframe thead th {\n",
              "        text-align: right;\n",
              "    }\n",
              "</style>\n",
              "<table border=\"1\" class=\"dataframe\">\n",
              "  <thead>\n",
              "    <tr style=\"text-align: right;\">\n",
              "      <th></th>\n",
              "      <th>Campaign Response</th>\n",
              "    </tr>\n",
              "  </thead>\n",
              "  <tbody>\n",
              "    <tr>\n",
              "      <th>Did Not Respond</th>\n",
              "      <td>8500</td>\n",
              "    </tr>\n",
              "    <tr>\n",
              "      <th>Did Respond</th>\n",
              "      <td>1627</td>\n",
              "    </tr>\n",
              "  </tbody>\n",
              "</table>\n",
              "</div>"
            ],
            "text/plain": [
              "                 Campaign Response\n",
              "Did Not Respond               8500\n",
              "Did Respond                   1627"
            ]
          },
          "metadata": {
            "tags": []
          },
          "execution_count": 84
        }
      ]
    },
    {
      "cell_type": "code",
      "metadata": {
        "colab": {
          "base_uri": "https://localhost:8080/",
          "height": 282
        },
        "id": "F1sW4w8IDaZq",
        "outputId": "9e4e1faa-717d-4afa-dd1f-432387856254"
      },
      "source": [
        "pie.plot.pie(subplots=True)"
      ],
      "execution_count": null,
      "outputs": [
        {
          "output_type": "execute_result",
          "data": {
            "text/plain": [
              "array([<matplotlib.axes._subplots.AxesSubplot object at 0x7f3dbc8d7310>],\n",
              "      dtype=object)"
            ]
          },
          "metadata": {
            "tags": []
          },
          "execution_count": 85
        },
        {
          "output_type": "display_data",
          "data": {
            "image/png": "[encoded data removed]",
            "text/plain": [
              "<Figure size 432x288 with 1 Axes>"
            ]
          },
          "metadata": {
            "tags": []
          }
        }
      ]
    },
    {
      "cell_type": "code",
      "metadata": {
        "id": "bFoXhjQWK2Jg"
      },
      "source": [
        "subset = ['Customer_Age','Gender','Education_Level','Marital_Status',\n",
        "          'Income_Category','Card_Category','Total_Relationship_Count',\n",
        "          'Months_Inactive_12_mon',\n",
        "          'Credit_Limit','Total_Revolving_Bal',\n",
        "          'Total_Trans_Amt','Total_Trans_Ct',\n",
        "          'Profit', 'Avg_Utilization_Ratio']"
      ],
      "execution_count": null,
      "outputs": []
    },
    {
      "cell_type": "code",
      "metadata": {
        "id": "gGAlymX7PyGj"
      },
      "source": [
        "df = df1.loc[:,subset]"
      ],
      "execution_count": null,
      "outputs": []
    },
    {
      "cell_type": "code",
      "metadata": {
        "colab": {
          "base_uri": "https://localhost:8080/",
          "height": 100
        },
        "id": "YVwjq6k8CMQS",
        "outputId": "11bf0455-9126-4433-9b4f-4c09624006b2"
      },
      "source": [
        "df.head(1)"
      ],
      "execution_count": null,
      "outputs": [
        {
          "output_type": "execute_result",
          "data": {
            "text/html": [
              "<div>\n",
              "<style scoped>\n",
              "    .dataframe tbody tr th:only-of-type {\n",
              "        vertical-align: middle;\n",
              "    }\n",
              "\n",
              "    .dataframe tbody tr th {\n",
              "        vertical-align: top;\n",
              "    }\n",
              "\n",
              "    .dataframe thead th {\n",
              "        text-align: right;\n",
              "    }\n",
              "</style>\n",
              "<table border=\"1\" class=\"dataframe\">\n",
              "  <thead>\n",
              "    <tr style=\"text-align: right;\">\n",
              "      <th></th>\n",
              "      <th>Customer_Age</th>\n",
              "      <th>Gender</th>\n",
              "      <th>Education_Level</th>\n",
              "      <th>Marital_Status</th>\n",
              "      <th>Income_Category</th>\n",
              "      <th>Card_Category</th>\n",
              "      <th>Total_Relationship_Count</th>\n",
              "      <th>Months_Inactive_12_mon</th>\n",
              "      <th>Credit_Limit</th>\n",
              "      <th>Total_Revolving_Bal</th>\n",
              "      <th>Total_Trans_Amt</th>\n",
              "      <th>Total_Trans_Ct</th>\n",
              "      <th>Profit</th>\n",
              "      <th>Avg_Utilization_Ratio</th>\n",
              "    </tr>\n",
              "  </thead>\n",
              "  <tbody>\n",
              "    <tr>\n",
              "      <th>0</th>\n",
              "      <td>45</td>\n",
              "      <td>M</td>\n",
              "      <td>High School</td>\n",
              "      <td>Married</td>\n",
              "      <td>$60K - $80K</td>\n",
              "      <td>Rewards Basic</td>\n",
              "      <td>5</td>\n",
              "      <td>1</td>\n",
              "      <td>12691.00</td>\n",
              "      <td>777</td>\n",
              "      <td>1144</td>\n",
              "      <td>42</td>\n",
              "      <td>117.23</td>\n",
              "      <td>0.06</td>\n",
              "    </tr>\n",
              "  </tbody>\n",
              "</table>\n",
              "</div>"
            ],
            "text/plain": [
              "   Customer_Age Gender  ... Profit Avg_Utilization_Ratio\n",
              "0            45      M  ... 117.23                  0.06\n",
              "\n",
              "[1 rows x 14 columns]"
            ]
          },
          "metadata": {
            "tags": []
          },
          "execution_count": 88
        }
      ]
    },
    {
      "cell_type": "code",
      "metadata": {
        "colab": {
          "base_uri": "https://localhost:8080/"
        },
        "id": "0wTj2igU4A6l",
        "outputId": "3185234a-1ebf-4bd9-e062-3d2fea555825"
      },
      "source": [
        "df.Education_Level.value_counts()\n"
      ],
      "execution_count": null,
      "outputs": [
        {
          "output_type": "execute_result",
          "data": {
            "text/plain": [
              "Graduate         3128\n",
              "High School      2013\n",
              "Unknown          1519\n",
              "University       1013\n",
              "Post-Graduate     516\n",
              "Doctorate         451\n",
              "Name: Education_Level, dtype: int64"
            ]
          },
          "metadata": {
            "tags": []
          },
          "execution_count": 89
        }
      ]
    },
    {
      "cell_type": "code",
      "metadata": {
        "colab": {
          "base_uri": "https://localhost:8080/",
          "height": 226
        },
        "id": "kZ6WuF-W4YPg",
        "outputId": "9e5f7ebf-9e9d-47a5-b27c-0fd2c796baf2"
      },
      "source": [
        "df.loc[df.Education_Level.isnull(), :].head(5)"
      ],
      "execution_count": null,
      "outputs": [
        {
          "output_type": "execute_result",
          "data": {
            "text/html": [
              "<div>\n",
              "<style scoped>\n",
              "    .dataframe tbody tr th:only-of-type {\n",
              "        vertical-align: middle;\n",
              "    }\n",
              "\n",
              "    .dataframe tbody tr th {\n",
              "        vertical-align: top;\n",
              "    }\n",
              "\n",
              "    .dataframe thead th {\n",
              "        text-align: right;\n",
              "    }\n",
              "</style>\n",
              "<table border=\"1\" class=\"dataframe\">\n",
              "  <thead>\n",
              "    <tr style=\"text-align: right;\">\n",
              "      <th></th>\n",
              "      <th>Customer_Age</th>\n",
              "      <th>Gender</th>\n",
              "      <th>Education_Level</th>\n",
              "      <th>Marital_Status</th>\n",
              "      <th>Income_Category</th>\n",
              "      <th>Card_Category</th>\n",
              "      <th>Total_Relationship_Count</th>\n",
              "      <th>Months_Inactive_12_mon</th>\n",
              "      <th>Credit_Limit</th>\n",
              "      <th>Total_Revolving_Bal</th>\n",
              "      <th>Total_Trans_Amt</th>\n",
              "      <th>Total_Trans_Ct</th>\n",
              "      <th>Profit</th>\n",
              "      <th>Avg_Utilization_Ratio</th>\n",
              "    </tr>\n",
              "  </thead>\n",
              "  <tbody>\n",
              "    <tr>\n",
              "      <th>4</th>\n",
              "      <td>40</td>\n",
              "      <td>M</td>\n",
              "      <td>NaN</td>\n",
              "      <td>Married</td>\n",
              "      <td>$60K - $80K</td>\n",
              "      <td>Rewards Basic</td>\n",
              "      <td>5</td>\n",
              "      <td>1</td>\n",
              "      <td>4716.00</td>\n",
              "      <td>0</td>\n",
              "      <td>816</td>\n",
              "      <td>28</td>\n",
              "      <td>-17.71</td>\n",
              "      <td>0.00</td>\n",
              "    </tr>\n",
              "    <tr>\n",
              "      <th>8</th>\n",
              "      <td>37</td>\n",
              "      <td>M</td>\n",
              "      <td>NaN</td>\n",
              "      <td>Single</td>\n",
              "      <td>$60K - $80K</td>\n",
              "      <td>Rewards Basic</td>\n",
              "      <td>5</td>\n",
              "      <td>2</td>\n",
              "      <td>22352.00</td>\n",
              "      <td>2517</td>\n",
              "      <td>1350</td>\n",
              "      <td>24</td>\n",
              "      <td>414.69</td>\n",
              "      <td>0.11</td>\n",
              "    </tr>\n",
              "    <tr>\n",
              "      <th>10</th>\n",
              "      <td>42</td>\n",
              "      <td>M</td>\n",
              "      <td>NaN</td>\n",
              "      <td>Unknown</td>\n",
              "      <td>$120K +</td>\n",
              "      <td>Rewards Basic</td>\n",
              "      <td>5</td>\n",
              "      <td>3</td>\n",
              "      <td>6748.00</td>\n",
              "      <td>1467</td>\n",
              "      <td>1201</td>\n",
              "      <td>42</td>\n",
              "      <td>234.97</td>\n",
              "      <td>0.22</td>\n",
              "    </tr>\n",
              "    <tr>\n",
              "      <th>28</th>\n",
              "      <td>44</td>\n",
              "      <td>F</td>\n",
              "      <td>NaN</td>\n",
              "      <td>Single</td>\n",
              "      <td>Unknown</td>\n",
              "      <td>Rewards Basic</td>\n",
              "      <td>5</td>\n",
              "      <td>2</td>\n",
              "      <td>10100.00</td>\n",
              "      <td>0</td>\n",
              "      <td>1052</td>\n",
              "      <td>18</td>\n",
              "      <td>-15.61</td>\n",
              "      <td>0.00</td>\n",
              "    </tr>\n",
              "    <tr>\n",
              "      <th>31</th>\n",
              "      <td>53</td>\n",
              "      <td>M</td>\n",
              "      <td>NaN</td>\n",
              "      <td>Married</td>\n",
              "      <td>$60K - $80K</td>\n",
              "      <td>Rewards Basic</td>\n",
              "      <td>2</td>\n",
              "      <td>5</td>\n",
              "      <td>2451.00</td>\n",
              "      <td>1690</td>\n",
              "      <td>1596</td>\n",
              "      <td>26</td>\n",
              "      <td>276.38</td>\n",
              "      <td>0.69</td>\n",
              "    </tr>\n",
              "  </tbody>\n",
              "</table>\n",
              "</div>"
            ],
            "text/plain": [
              "    Customer_Age Gender  ... Profit Avg_Utilization_Ratio\n",
              "4             40      M  ... -17.71                  0.00\n",
              "8             37      M  ... 414.69                  0.11\n",
              "10            42      M  ... 234.97                  0.22\n",
              "28            44      F  ... -15.61                  0.00\n",
              "31            53      M  ... 276.38                  0.69\n",
              "\n",
              "[5 rows x 14 columns]"
            ]
          },
          "metadata": {
            "tags": []
          },
          "execution_count": 90
        }
      ]
    },
    {
      "cell_type": "code",
      "metadata": {
        "id": "G7FA2-ds4uuw"
      },
      "source": [
        "## Fill the null values \n",
        "df.fillna(value='Null', axis=0,inplace=True)"
      ],
      "execution_count": null,
      "outputs": []
    },
    {
      "cell_type": "code",
      "metadata": {
        "colab": {
          "base_uri": "https://localhost:8080/"
        },
        "id": "YbioRUR3Xlza",
        "outputId": "8ce47f89-f8c8-4234-a54c-176a73b0a675"
      },
      "source": [
        "df.isnull().sum()"
      ],
      "execution_count": null,
      "outputs": [
        {
          "output_type": "execute_result",
          "data": {
            "text/plain": [
              "Customer_Age                0\n",
              "Gender                      0\n",
              "Education_Level             0\n",
              "Marital_Status              0\n",
              "Income_Category             0\n",
              "Card_Category               0\n",
              "Total_Relationship_Count    0\n",
              "Months_Inactive_12_mon      0\n",
              "Credit_Limit                0\n",
              "Total_Revolving_Bal         0\n",
              "Total_Trans_Amt             0\n",
              "Total_Trans_Ct              0\n",
              "Profit                      0\n",
              "Avg_Utilization_Ratio       0\n",
              "dtype: int64"
            ]
          },
          "metadata": {
            "tags": []
          },
          "execution_count": 92
        }
      ]
    },
    {
      "cell_type": "markdown",
      "metadata": {
        "id": "nJxq-JtsraJl"
      },
      "source": [
        "**Data Preprocessing**"
      ]
    },
    {
      "cell_type": "code",
      "metadata": {
        "id": "bfzifMiyLyXG"
      },
      "source": [
        "# Categorical and numerical features\n",
        "cat_cols = list(df.select_dtypes(\"object\").columns)\n",
        "num_cols = list(df.select_dtypes(exclude=\"object\").columns)"
      ],
      "execution_count": null,
      "outputs": []
    },
    {
      "cell_type": "code",
      "metadata": {
        "colab": {
          "base_uri": "https://localhost:8080/"
        },
        "id": "rugqN9KRXg-8",
        "outputId": "8c3950e7-489c-4791-ec47-f8b0d100a8d5"
      },
      "source": [
        "cat_cols"
      ],
      "execution_count": null,
      "outputs": [
        {
          "output_type": "execute_result",
          "data": {
            "text/plain": [
              "['Gender',\n",
              " 'Education_Level',\n",
              " 'Marital_Status',\n",
              " 'Income_Category',\n",
              " 'Card_Category']"
            ]
          },
          "metadata": {
            "tags": []
          },
          "execution_count": 94
        }
      ]
    },
    {
      "cell_type": "code",
      "metadata": {
        "id": "IuEjfB9ZUUSs"
      },
      "source": [
        "### Preprocessing the numerical data\n",
        "from sklearn.preprocessing import StandardScaler, OneHotEncoder\n",
        "from sklearn.pipeline import Pipeline, FeatureUnion\n",
        "from sklearn.compose import ColumnTransformer\n",
        "from sklearn.decomposition import PCA\n",
        "from sklearn.metrics import silhouette_score\n",
        "\n",
        "scaler = StandardScaler()\n",
        "ohe = OneHotEncoder()\n",
        "\n",
        "Column_trans = ColumnTransformer(\n",
        "     [('scale', scaler, num_cols),\n",
        "      ('Onehot', ohe, cat_cols),\n",
        "      ],\n",
        "     remainder='passthrough')\n",
        "preprocessor = Pipeline(\n",
        "    [('features', Column_trans)\n",
        "\n",
        "     ])\n"
      ],
      "execution_count": null,
      "outputs": []
    },
    {
      "cell_type": "markdown",
      "metadata": {
        "id": "I6leJzTemSgj"
      },
      "source": [
        "**Model buidling**"
      ]
    },
    {
      "cell_type": "code",
      "metadata": {
        "id": "-UXJkIn8chuI"
      },
      "source": [
        "K = 3\n",
        "clusterer = Pipeline(\n",
        "    [(\"kmeans\", \n",
        "        KMeans(n_clusters=K, random_state=1)\n",
        "    )]\n",
        ")\n",
        "pipe = Pipeline([(\"preprocessor\", preprocessor), \n",
        "                 (\"clusterer\", clusterer)])"
      ],
      "execution_count": null,
      "outputs": []
    },
    {
      "cell_type": "code",
      "metadata": {
        "colab": {
          "base_uri": "https://localhost:8080/"
        },
        "id": "7ZdCb_jjn2TE",
        "outputId": "4d281daa-e022-49d3-8e1e-70e2a6d4be58"
      },
      "source": [
        "## Fit the Data\n",
        "\n",
        "pipe.fit(df)"
      ],
      "execution_count": null,
      "outputs": [
        {
          "output_type": "execute_result",
          "data": {
            "text/plain": [
              "Pipeline(memory=None,\n",
              "         steps=[('preprocessor',\n",
              "                 Pipeline(memory=None,\n",
              "                          steps=[('features',\n",
              "                                  ColumnTransformer(n_jobs=None,\n",
              "                                                    remainder='passthrough',\n",
              "                                                    sparse_threshold=0.3,\n",
              "                                                    transformer_weights=None,\n",
              "                                                    transformers=[('scale',\n",
              "                                                                   StandardScaler(copy=True,\n",
              "                                                                                  with_mean=True,\n",
              "                                                                                  with_std=True),\n",
              "                                                                   ['Customer_Age',\n",
              "                                                                    'Total_Relationship_Count',\n",
              "                                                                    'Months_Inactive_12_mon',\n",
              "                                                                    'Credit_Limit',\n",
              "                                                                    'Tota...\n",
              "                                                                    'Education_Level',\n",
              "                                                                    'Marital_Status',\n",
              "                                                                    'Income_Category',\n",
              "                                                                    'Card_Category'])],\n",
              "                                                    verbose=False))],\n",
              "                          verbose=False)),\n",
              "                ('clusterer',\n",
              "                 Pipeline(memory=None,\n",
              "                          steps=[('kmeans',\n",
              "                                  KMeans(algorithm='auto', copy_x=True,\n",
              "                                         init='k-means++', max_iter=300,\n",
              "                                         n_clusters=3, n_init=10, n_jobs=None,\n",
              "                                         precompute_distances='auto',\n",
              "                                         random_state=1, tol=0.0001,\n",
              "                                         verbose=0))],\n",
              "                          verbose=False))],\n",
              "         verbose=False)"
            ]
          },
          "metadata": {
            "tags": []
          },
          "execution_count": 97
        }
      ]
    },
    {
      "cell_type": "code",
      "metadata": {
        "colab": {
          "base_uri": "https://localhost:8080/"
        },
        "id": "KSsphmQLqhsU",
        "outputId": "b1afcb5f-c457-4726-b438-7083da9fa02d"
      },
      "source": [
        "preprocessed_data = pipe[\"preprocessor\"].transform(df)\n",
        "predicted_labels = pipe[\"clusterer\"][\"kmeans\"].labels_\n",
        "silhouette_score(preprocessed_data, predicted_labels)"
      ],
      "execution_count": null,
      "outputs": [
        {
          "output_type": "execute_result",
          "data": {
            "text/plain": [
              "0.17021843765404265"
            ]
          },
          "metadata": {
            "tags": []
          },
          "execution_count": 98
        }
      ]
    },
    {
      "cell_type": "code",
      "metadata": {
        "id": "QTx3QGmQqjED"
      },
      "source": [
        "### Find out the Outliers\n",
        "df_new = df.copy(deep=True)\n",
        "df_new[\"predicted_label\"]  = pipe[\"clusterer\"][\"kmeans\"].labels_\n",
        "## Drop this outlier index 361"
      ],
      "execution_count": null,
      "outputs": []
    },
    {
      "cell_type": "markdown",
      "metadata": {
        "id": "ucwGbZBpciyY"
      },
      "source": [
        "## **Cluster Interpretation**"
      ]
    },
    {
      "cell_type": "markdown",
      "metadata": {
        "id": "7jyWuRJgPSBK"
      },
      "source": [
        "**Features mean for each clusters**"
      ]
    },
    {
      "cell_type": "code",
      "metadata": {
        "id": "r4I_L8VhfD48",
        "colab": {
          "base_uri": "https://localhost:8080/",
          "height": 226
        },
        "outputId": "17796309-6e41-44e4-84ff-4b4d487c8441"
      },
      "source": [
        "df_new.head()"
      ],
      "execution_count": null,
      "outputs": [
        {
          "output_type": "execute_result",
          "data": {
            "text/html": [
              "<div>\n",
              "<style scoped>\n",
              "    .dataframe tbody tr th:only-of-type {\n",
              "        vertical-align: middle;\n",
              "    }\n",
              "\n",
              "    .dataframe tbody tr th {\n",
              "        vertical-align: top;\n",
              "    }\n",
              "\n",
              "    .dataframe thead th {\n",
              "        text-align: right;\n",
              "    }\n",
              "</style>\n",
              "<table border=\"1\" class=\"dataframe\">\n",
              "  <thead>\n",
              "    <tr style=\"text-align: right;\">\n",
              "      <th></th>\n",
              "      <th>Customer_Age</th>\n",
              "      <th>Gender</th>\n",
              "      <th>Education_Level</th>\n",
              "      <th>Marital_Status</th>\n",
              "      <th>Income_Category</th>\n",
              "      <th>Card_Category</th>\n",
              "      <th>Total_Relationship_Count</th>\n",
              "      <th>Months_Inactive_12_mon</th>\n",
              "      <th>Credit_Limit</th>\n",
              "      <th>Total_Revolving_Bal</th>\n",
              "      <th>Total_Trans_Amt</th>\n",
              "      <th>Total_Trans_Ct</th>\n",
              "      <th>Profit</th>\n",
              "      <th>Avg_Utilization_Ratio</th>\n",
              "      <th>predicted_label</th>\n",
              "    </tr>\n",
              "  </thead>\n",
              "  <tbody>\n",
              "    <tr>\n",
              "      <th>0</th>\n",
              "      <td>45</td>\n",
              "      <td>M</td>\n",
              "      <td>High School</td>\n",
              "      <td>Married</td>\n",
              "      <td>$60K - $80K</td>\n",
              "      <td>Rewards Basic</td>\n",
              "      <td>5</td>\n",
              "      <td>1</td>\n",
              "      <td>12691.00</td>\n",
              "      <td>777</td>\n",
              "      <td>1144</td>\n",
              "      <td>42</td>\n",
              "      <td>117.23</td>\n",
              "      <td>0.06</td>\n",
              "      <td>1</td>\n",
              "    </tr>\n",
              "    <tr>\n",
              "      <th>1</th>\n",
              "      <td>49</td>\n",
              "      <td>F</td>\n",
              "      <td>Graduate</td>\n",
              "      <td>Single</td>\n",
              "      <td>Less than $40K</td>\n",
              "      <td>Rewards Basic</td>\n",
              "      <td>6</td>\n",
              "      <td>1</td>\n",
              "      <td>8256.00</td>\n",
              "      <td>864</td>\n",
              "      <td>1291</td>\n",
              "      <td>33</td>\n",
              "      <td>133.32</td>\n",
              "      <td>0.10</td>\n",
              "      <td>1</td>\n",
              "    </tr>\n",
              "    <tr>\n",
              "      <th>2</th>\n",
              "      <td>51</td>\n",
              "      <td>M</td>\n",
              "      <td>Graduate</td>\n",
              "      <td>Married</td>\n",
              "      <td>$80K - $120K</td>\n",
              "      <td>Rewards Basic</td>\n",
              "      <td>4</td>\n",
              "      <td>1</td>\n",
              "      <td>3418.00</td>\n",
              "      <td>0</td>\n",
              "      <td>1887</td>\n",
              "      <td>20</td>\n",
              "      <td>-8.15</td>\n",
              "      <td>0.00</td>\n",
              "      <td>1</td>\n",
              "    </tr>\n",
              "    <tr>\n",
              "      <th>3</th>\n",
              "      <td>40</td>\n",
              "      <td>F</td>\n",
              "      <td>High School</td>\n",
              "      <td>Unknown</td>\n",
              "      <td>Less than $40K</td>\n",
              "      <td>Rewards Basic</td>\n",
              "      <td>3</td>\n",
              "      <td>4</td>\n",
              "      <td>3313.00</td>\n",
              "      <td>2517</td>\n",
              "      <td>1171</td>\n",
              "      <td>20</td>\n",
              "      <td>413.09</td>\n",
              "      <td>0.76</td>\n",
              "      <td>0</td>\n",
              "    </tr>\n",
              "    <tr>\n",
              "      <th>4</th>\n",
              "      <td>40</td>\n",
              "      <td>M</td>\n",
              "      <td>Null</td>\n",
              "      <td>Married</td>\n",
              "      <td>$60K - $80K</td>\n",
              "      <td>Rewards Basic</td>\n",
              "      <td>5</td>\n",
              "      <td>1</td>\n",
              "      <td>4716.00</td>\n",
              "      <td>0</td>\n",
              "      <td>816</td>\n",
              "      <td>28</td>\n",
              "      <td>-17.71</td>\n",
              "      <td>0.00</td>\n",
              "      <td>1</td>\n",
              "    </tr>\n",
              "  </tbody>\n",
              "</table>\n",
              "</div>"
            ],
            "text/plain": [
              "   Customer_Age Gender  ... Avg_Utilization_Ratio predicted_label\n",
              "0            45      M  ...                  0.06               1\n",
              "1            49      F  ...                  0.10               1\n",
              "2            51      M  ...                  0.00               1\n",
              "3            40      F  ...                  0.76               0\n",
              "4            40      M  ...                  0.00               1\n",
              "\n",
              "[5 rows x 15 columns]"
            ]
          },
          "metadata": {
            "tags": []
          },
          "execution_count": 100
        }
      ]
    },
    {
      "cell_type": "code",
      "metadata": {
        "colab": {
          "base_uri": "https://localhost:8080/"
        },
        "id": "rh9nJn5CEy9M",
        "outputId": "bec37747-3940-40ce-b618-8f67973e2abd"
      },
      "source": [
        "num_cols"
      ],
      "execution_count": null,
      "outputs": [
        {
          "output_type": "execute_result",
          "data": {
            "text/plain": [
              "['Customer_Age',\n",
              " 'Total_Relationship_Count',\n",
              " 'Months_Inactive_12_mon',\n",
              " 'Credit_Limit',\n",
              " 'Total_Revolving_Bal',\n",
              " 'Total_Trans_Amt',\n",
              " 'Total_Trans_Ct',\n",
              " 'Profit',\n",
              " 'Avg_Utilization_Ratio']"
            ]
          },
          "metadata": {
            "tags": []
          },
          "execution_count": 101
        }
      ]
    },
    {
      "cell_type": "code",
      "metadata": {
        "id": "hZ2mmcVeFYkL",
        "colab": {
          "base_uri": "https://localhost:8080/",
          "height": 331
        },
        "outputId": "2fe95afe-7acb-4d43-e193-d78a1211c230"
      },
      "source": [
        "### Numerical Features Cluster Mean Values\n",
        "index = list(df[num_cols])\n",
        "clus_summary = pd.DataFrame(index=index, columns=[\"Cluster 1\", \"Cluster 2\", \"Cluster 3\"])\n",
        "np.set_printoptions(precision=2)\n",
        "np.set_printoptions(suppress=True)\n",
        "\n",
        "for i, label in enumerate(set(predicted_labels)):\n",
        "    clus_summary.iloc[:,i] = df_new[df_new.predicted_label==label].mean(axis=0)\n",
        "\n",
        "clus_summary[\"All Data\"] = df_new.mean(axis=0)\n",
        "clus_summary"
      ],
      "execution_count": null,
      "outputs": [
        {
          "output_type": "execute_result",
          "data": {
            "text/html": [
              "<div>\n",
              "<style scoped>\n",
              "    .dataframe tbody tr th:only-of-type {\n",
              "        vertical-align: middle;\n",
              "    }\n",
              "\n",
              "    .dataframe tbody tr th {\n",
              "        vertical-align: top;\n",
              "    }\n",
              "\n",
              "    .dataframe thead th {\n",
              "        text-align: right;\n",
              "    }\n",
              "</style>\n",
              "<table border=\"1\" class=\"dataframe\">\n",
              "  <thead>\n",
              "    <tr style=\"text-align: right;\">\n",
              "      <th></th>\n",
              "      <th>Cluster 1</th>\n",
              "      <th>Cluster 2</th>\n",
              "      <th>Cluster 3</th>\n",
              "      <th>All Data</th>\n",
              "    </tr>\n",
              "  </thead>\n",
              "  <tbody>\n",
              "    <tr>\n",
              "      <th>Customer_Age</th>\n",
              "      <td>46.47</td>\n",
              "      <td>46.38</td>\n",
              "      <td>45.58</td>\n",
              "      <td>46.33</td>\n",
              "    </tr>\n",
              "    <tr>\n",
              "      <th>Total_Relationship_Count</th>\n",
              "      <td>4.12</td>\n",
              "      <td>3.93</td>\n",
              "      <td>2.20</td>\n",
              "      <td>3.81</td>\n",
              "    </tr>\n",
              "    <tr>\n",
              "      <th>Months_Inactive_12_mon</th>\n",
              "      <td>2.31</td>\n",
              "      <td>2.43</td>\n",
              "      <td>2.21</td>\n",
              "      <td>2.34</td>\n",
              "    </tr>\n",
              "    <tr>\n",
              "      <th>Credit_Limit</th>\n",
              "      <td>5761.29</td>\n",
              "      <td>9926.94</td>\n",
              "      <td>16445.37</td>\n",
              "      <td>8631.95</td>\n",
              "    </tr>\n",
              "    <tr>\n",
              "      <th>Total_Revolving_Bal</th>\n",
              "      <td>1690.74</td>\n",
              "      <td>335.75</td>\n",
              "      <td>1472.09</td>\n",
              "      <td>1162.81</td>\n",
              "    </tr>\n",
              "    <tr>\n",
              "      <th>Total_Trans_Amt</th>\n",
              "      <td>3381.47</td>\n",
              "      <td>3326.10</td>\n",
              "      <td>11751.69</td>\n",
              "      <td>4404.09</td>\n",
              "    </tr>\n",
              "    <tr>\n",
              "      <th>Total_Trans_Ct</th>\n",
              "      <td>61.05</td>\n",
              "      <td>57.97</td>\n",
              "      <td>100.76</td>\n",
              "      <td>64.86</td>\n",
              "    </tr>\n",
              "    <tr>\n",
              "      <th>Profit</th>\n",
              "      <td>293.43</td>\n",
              "      <td>63.86</td>\n",
              "      <td>330.76</td>\n",
              "      <td>213.25</td>\n",
              "    </tr>\n",
              "    <tr>\n",
              "      <th>Avg_Utilization_Ratio</th>\n",
              "      <td>0.47</td>\n",
              "      <td>0.04</td>\n",
              "      <td>0.16</td>\n",
              "      <td>0.27</td>\n",
              "    </tr>\n",
              "  </tbody>\n",
              "</table>\n",
              "</div>"
            ],
            "text/plain": [
              "                          Cluster 1  Cluster 2  Cluster 3  All Data\n",
              "Customer_Age                  46.47      46.38      45.58     46.33\n",
              "Total_Relationship_Count       4.12       3.93       2.20      3.81\n",
              "Months_Inactive_12_mon         2.31       2.43       2.21      2.34\n",
              "Credit_Limit                5761.29    9926.94   16445.37   8631.95\n",
              "Total_Revolving_Bal         1690.74     335.75    1472.09   1162.81\n",
              "Total_Trans_Amt             3381.47    3326.10   11751.69   4404.09\n",
              "Total_Trans_Ct                61.05      57.97     100.76     64.86\n",
              "Profit                       293.43      63.86     330.76    213.25\n",
              "Avg_Utilization_Ratio          0.47       0.04       0.16      0.27"
            ]
          },
          "metadata": {
            "tags": []
          },
          "execution_count": 102
        }
      ]
    },
    {
      "cell_type": "code",
      "metadata": {
        "id": "xwh0MWuYO9Si",
        "colab": {
          "base_uri": "https://localhost:8080/"
        },
        "outputId": "7889e956-4099-4bf7-b29d-ab9214ef694b"
      },
      "source": [
        "df.Income_Category.value_counts()"
      ],
      "execution_count": null,
      "outputs": [
        {
          "output_type": "execute_result",
          "data": {
            "text/plain": [
              "Less than $40K    3561\n",
              "$40K - $60K       1790\n",
              "$80K - $120K      1535\n",
              "$60K - $80K       1402\n",
              "Unknown           1112\n",
              "$120K +            727\n",
              "Name: Income_Category, dtype: int64"
            ]
          },
          "metadata": {
            "tags": []
          },
          "execution_count": 103
        }
      ]
    },
    {
      "cell_type": "markdown",
      "metadata": {
        "id": "_WOTLqLnUVx6"
      },
      "source": [
        "**Categorical Feature Value count**"
      ]
    },
    {
      "cell_type": "code",
      "metadata": {
        "id": "yjC9de1rNmVW",
        "colab": {
          "base_uri": "https://localhost:8080/",
          "height": 1000
        },
        "outputId": "7cb321fe-7ff8-4012-a18b-011ec2b6a422"
      },
      "source": [
        "### Categorical Features Cluster Summary\n",
        "np.set_printoptions(precision=2)\n",
        "np.set_printoptions(suppress=True)\n",
        "\n",
        "if len(cat_cols) > 0:\n",
        "  for cat_col in cat_cols:\n",
        "    for i, label in enumerate(set(predicted_labels)):\n",
        "      valuecount = df_new[df_new.predicted_label==label][cat_col].value_counts()\n",
        "      percentage = (valuecount / sum(valuecount)) * 100\n",
        "      values = pd.concat([valuecount,percentage], axis=1)\n",
        "      print(f\"Cluster {i+1}\")\n",
        "      values.rename(columns={0:\"Count\", 1:\"Percentage\"})\n"
      ],
      "execution_count": null,
      "outputs": [
        {
          "output_type": "stream",
          "text": [
            "Cluster 1\n"
          ],
          "name": "stdout"
        },
        {
          "output_type": "execute_result",
          "data": {
            "text/html": [
              "<div>\n",
              "<style scoped>\n",
              "    .dataframe tbody tr th:only-of-type {\n",
              "        vertical-align: middle;\n",
              "    }\n",
              "\n",
              "    .dataframe tbody tr th {\n",
              "        vertical-align: top;\n",
              "    }\n",
              "\n",
              "    .dataframe thead th {\n",
              "        text-align: right;\n",
              "    }\n",
              "</style>\n",
              "<table border=\"1\" class=\"dataframe\">\n",
              "  <thead>\n",
              "    <tr style=\"text-align: right;\">\n",
              "      <th></th>\n",
              "      <th>Gender</th>\n",
              "      <th>Gender</th>\n",
              "    </tr>\n",
              "  </thead>\n",
              "  <tbody>\n",
              "    <tr>\n",
              "      <th>F</th>\n",
              "      <td>3110</td>\n",
              "      <td>60.71</td>\n",
              "    </tr>\n",
              "    <tr>\n",
              "      <th>M</th>\n",
              "      <td>2013</td>\n",
              "      <td>39.29</td>\n",
              "    </tr>\n",
              "  </tbody>\n",
              "</table>\n",
              "</div>"
            ],
            "text/plain": [
              "   Gender  Gender\n",
              "F    3110   60.71\n",
              "M    2013   39.29"
            ]
          },
          "metadata": {
            "tags": []
          },
          "execution_count": 104
        },
        {
          "output_type": "stream",
          "text": [
            "Cluster 2\n"
          ],
          "name": "stdout"
        },
        {
          "output_type": "execute_result",
          "data": {
            "text/html": [
              "<div>\n",
              "<style scoped>\n",
              "    .dataframe tbody tr th:only-of-type {\n",
              "        vertical-align: middle;\n",
              "    }\n",
              "\n",
              "    .dataframe tbody tr th {\n",
              "        vertical-align: top;\n",
              "    }\n",
              "\n",
              "    .dataframe thead th {\n",
              "        text-align: right;\n",
              "    }\n",
              "</style>\n",
              "<table border=\"1\" class=\"dataframe\">\n",
              "  <thead>\n",
              "    <tr style=\"text-align: right;\">\n",
              "      <th></th>\n",
              "      <th>Gender</th>\n",
              "      <th>Gender</th>\n",
              "    </tr>\n",
              "  </thead>\n",
              "  <tbody>\n",
              "    <tr>\n",
              "      <th>M</th>\n",
              "      <td>1939</td>\n",
              "      <td>51.82</td>\n",
              "    </tr>\n",
              "    <tr>\n",
              "      <th>F</th>\n",
              "      <td>1803</td>\n",
              "      <td>48.18</td>\n",
              "    </tr>\n",
              "  </tbody>\n",
              "</table>\n",
              "</div>"
            ],
            "text/plain": [
              "   Gender  Gender\n",
              "M    1939   51.82\n",
              "F    1803   48.18"
            ]
          },
          "metadata": {
            "tags": []
          },
          "execution_count": 104
        },
        {
          "output_type": "stream",
          "text": [
            "Cluster 3\n"
          ],
          "name": "stdout"
        },
        {
          "output_type": "execute_result",
          "data": {
            "text/html": [
              "<div>\n",
              "<style scoped>\n",
              "    .dataframe tbody tr th:only-of-type {\n",
              "        vertical-align: middle;\n",
              "    }\n",
              "\n",
              "    .dataframe tbody tr th {\n",
              "        vertical-align: top;\n",
              "    }\n",
              "\n",
              "    .dataframe thead th {\n",
              "        text-align: right;\n",
              "    }\n",
              "</style>\n",
              "<table border=\"1\" class=\"dataframe\">\n",
              "  <thead>\n",
              "    <tr style=\"text-align: right;\">\n",
              "      <th></th>\n",
              "      <th>Gender</th>\n",
              "      <th>Gender</th>\n",
              "    </tr>\n",
              "  </thead>\n",
              "  <tbody>\n",
              "    <tr>\n",
              "      <th>M</th>\n",
              "      <td>817</td>\n",
              "      <td>64.74</td>\n",
              "    </tr>\n",
              "    <tr>\n",
              "      <th>F</th>\n",
              "      <td>445</td>\n",
              "      <td>35.26</td>\n",
              "    </tr>\n",
              "  </tbody>\n",
              "</table>\n",
              "</div>"
            ],
            "text/plain": [
              "   Gender  Gender\n",
              "M     817   64.74\n",
              "F     445   35.26"
            ]
          },
          "metadata": {
            "tags": []
          },
          "execution_count": 104
        },
        {
          "output_type": "stream",
          "text": [
            "Cluster 1\n"
          ],
          "name": "stdout"
        },
        {
          "output_type": "execute_result",
          "data": {
            "text/html": [
              "<div>\n",
              "<style scoped>\n",
              "    .dataframe tbody tr th:only-of-type {\n",
              "        vertical-align: middle;\n",
              "    }\n",
              "\n",
              "    .dataframe tbody tr th {\n",
              "        vertical-align: top;\n",
              "    }\n",
              "\n",
              "    .dataframe thead th {\n",
              "        text-align: right;\n",
              "    }\n",
              "</style>\n",
              "<table border=\"1\" class=\"dataframe\">\n",
              "  <thead>\n",
              "    <tr style=\"text-align: right;\">\n",
              "      <th></th>\n",
              "      <th>Education_Level</th>\n",
              "      <th>Education_Level</th>\n",
              "    </tr>\n",
              "  </thead>\n",
              "  <tbody>\n",
              "    <tr>\n",
              "      <th>Graduate</th>\n",
              "      <td>1541</td>\n",
              "      <td>30.08</td>\n",
              "    </tr>\n",
              "    <tr>\n",
              "      <th>High School</th>\n",
              "      <td>1049</td>\n",
              "      <td>20.48</td>\n",
              "    </tr>\n",
              "    <tr>\n",
              "      <th>Unknown</th>\n",
              "      <td>781</td>\n",
              "      <td>15.24</td>\n",
              "    </tr>\n",
              "    <tr>\n",
              "      <th>Null</th>\n",
              "      <td>760</td>\n",
              "      <td>14.84</td>\n",
              "    </tr>\n",
              "    <tr>\n",
              "      <th>University</th>\n",
              "      <td>509</td>\n",
              "      <td>9.94</td>\n",
              "    </tr>\n",
              "    <tr>\n",
              "      <th>Post-Graduate</th>\n",
              "      <td>266</td>\n",
              "      <td>5.19</td>\n",
              "    </tr>\n",
              "    <tr>\n",
              "      <th>Doctorate</th>\n",
              "      <td>217</td>\n",
              "      <td>4.24</td>\n",
              "    </tr>\n",
              "  </tbody>\n",
              "</table>\n",
              "</div>"
            ],
            "text/plain": [
              "               Education_Level  Education_Level\n",
              "Graduate                  1541            30.08\n",
              "High School               1049            20.48\n",
              "Unknown                    781            15.24\n",
              "Null                       760            14.84\n",
              "University                 509             9.94\n",
              "Post-Graduate              266             5.19\n",
              "Doctorate                  217             4.24"
            ]
          },
          "metadata": {
            "tags": []
          },
          "execution_count": 104
        },
        {
          "output_type": "stream",
          "text": [
            "Cluster 2\n"
          ],
          "name": "stdout"
        },
        {
          "output_type": "execute_result",
          "data": {
            "text/html": [
              "<div>\n",
              "<style scoped>\n",
              "    .dataframe tbody tr th:only-of-type {\n",
              "        vertical-align: middle;\n",
              "    }\n",
              "\n",
              "    .dataframe tbody tr th {\n",
              "        vertical-align: top;\n",
              "    }\n",
              "\n",
              "    .dataframe thead th {\n",
              "        text-align: right;\n",
              "    }\n",
              "</style>\n",
              "<table border=\"1\" class=\"dataframe\">\n",
              "  <thead>\n",
              "    <tr style=\"text-align: right;\">\n",
              "      <th></th>\n",
              "      <th>Education_Level</th>\n",
              "      <th>Education_Level</th>\n",
              "    </tr>\n",
              "  </thead>\n",
              "  <tbody>\n",
              "    <tr>\n",
              "      <th>Graduate</th>\n",
              "      <td>1183</td>\n",
              "      <td>31.61</td>\n",
              "    </tr>\n",
              "    <tr>\n",
              "      <th>High School</th>\n",
              "      <td>717</td>\n",
              "      <td>19.16</td>\n",
              "    </tr>\n",
              "    <tr>\n",
              "      <th>Unknown</th>\n",
              "      <td>555</td>\n",
              "      <td>14.83</td>\n",
              "    </tr>\n",
              "    <tr>\n",
              "      <th>Null</th>\n",
              "      <td>528</td>\n",
              "      <td>14.11</td>\n",
              "    </tr>\n",
              "    <tr>\n",
              "      <th>University</th>\n",
              "      <td>391</td>\n",
              "      <td>10.45</td>\n",
              "    </tr>\n",
              "    <tr>\n",
              "      <th>Post-Graduate</th>\n",
              "      <td>185</td>\n",
              "      <td>4.94</td>\n",
              "    </tr>\n",
              "    <tr>\n",
              "      <th>Doctorate</th>\n",
              "      <td>183</td>\n",
              "      <td>4.89</td>\n",
              "    </tr>\n",
              "  </tbody>\n",
              "</table>\n",
              "</div>"
            ],
            "text/plain": [
              "               Education_Level  Education_Level\n",
              "Graduate                  1183            31.61\n",
              "High School                717            19.16\n",
              "Unknown                    555            14.83\n",
              "Null                       528            14.11\n",
              "University                 391            10.45\n",
              "Post-Graduate              185             4.94\n",
              "Doctorate                  183             4.89"
            ]
          },
          "metadata": {
            "tags": []
          },
          "execution_count": 104
        },
        {
          "output_type": "stream",
          "text": [
            "Cluster 3\n"
          ],
          "name": "stdout"
        },
        {
          "output_type": "execute_result",
          "data": {
            "text/html": [
              "<div>\n",
              "<style scoped>\n",
              "    .dataframe tbody tr th:only-of-type {\n",
              "        vertical-align: middle;\n",
              "    }\n",
              "\n",
              "    .dataframe tbody tr th {\n",
              "        vertical-align: top;\n",
              "    }\n",
              "\n",
              "    .dataframe thead th {\n",
              "        text-align: right;\n",
              "    }\n",
              "</style>\n",
              "<table border=\"1\" class=\"dataframe\">\n",
              "  <thead>\n",
              "    <tr style=\"text-align: right;\">\n",
              "      <th></th>\n",
              "      <th>Education_Level</th>\n",
              "      <th>Education_Level</th>\n",
              "    </tr>\n",
              "  </thead>\n",
              "  <tbody>\n",
              "    <tr>\n",
              "      <th>Graduate</th>\n",
              "      <td>404</td>\n",
              "      <td>32.01</td>\n",
              "    </tr>\n",
              "    <tr>\n",
              "      <th>High School</th>\n",
              "      <td>247</td>\n",
              "      <td>19.57</td>\n",
              "    </tr>\n",
              "    <tr>\n",
              "      <th>Null</th>\n",
              "      <td>199</td>\n",
              "      <td>15.77</td>\n",
              "    </tr>\n",
              "    <tr>\n",
              "      <th>Unknown</th>\n",
              "      <td>183</td>\n",
              "      <td>14.50</td>\n",
              "    </tr>\n",
              "    <tr>\n",
              "      <th>University</th>\n",
              "      <td>113</td>\n",
              "      <td>8.95</td>\n",
              "    </tr>\n",
              "    <tr>\n",
              "      <th>Post-Graduate</th>\n",
              "      <td>65</td>\n",
              "      <td>5.15</td>\n",
              "    </tr>\n",
              "    <tr>\n",
              "      <th>Doctorate</th>\n",
              "      <td>51</td>\n",
              "      <td>4.04</td>\n",
              "    </tr>\n",
              "  </tbody>\n",
              "</table>\n",
              "</div>"
            ],
            "text/plain": [
              "               Education_Level  Education_Level\n",
              "Graduate                   404            32.01\n",
              "High School                247            19.57\n",
              "Null                       199            15.77\n",
              "Unknown                    183            14.50\n",
              "University                 113             8.95\n",
              "Post-Graduate               65             5.15\n",
              "Doctorate                   51             4.04"
            ]
          },
          "metadata": {
            "tags": []
          },
          "execution_count": 104
        },
        {
          "output_type": "stream",
          "text": [
            "Cluster 1\n"
          ],
          "name": "stdout"
        },
        {
          "output_type": "execute_result",
          "data": {
            "text/html": [
              "<div>\n",
              "<style scoped>\n",
              "    .dataframe tbody tr th:only-of-type {\n",
              "        vertical-align: middle;\n",
              "    }\n",
              "\n",
              "    .dataframe tbody tr th {\n",
              "        vertical-align: top;\n",
              "    }\n",
              "\n",
              "    .dataframe thead th {\n",
              "        text-align: right;\n",
              "    }\n",
              "</style>\n",
              "<table border=\"1\" class=\"dataframe\">\n",
              "  <thead>\n",
              "    <tr style=\"text-align: right;\">\n",
              "      <th></th>\n",
              "      <th>Marital_Status</th>\n",
              "      <th>Marital_Status</th>\n",
              "    </tr>\n",
              "  </thead>\n",
              "  <tbody>\n",
              "    <tr>\n",
              "      <th>Married</th>\n",
              "      <td>2518</td>\n",
              "      <td>49.15</td>\n",
              "    </tr>\n",
              "    <tr>\n",
              "      <th>Single</th>\n",
              "      <td>1882</td>\n",
              "      <td>36.74</td>\n",
              "    </tr>\n",
              "    <tr>\n",
              "      <th>Divorced</th>\n",
              "      <td>370</td>\n",
              "      <td>7.22</td>\n",
              "    </tr>\n",
              "    <tr>\n",
              "      <th>Unknown</th>\n",
              "      <td>353</td>\n",
              "      <td>6.89</td>\n",
              "    </tr>\n",
              "  </tbody>\n",
              "</table>\n",
              "</div>"
            ],
            "text/plain": [
              "          Marital_Status  Marital_Status\n",
              "Married             2518           49.15\n",
              "Single              1882           36.74\n",
              "Divorced             370            7.22\n",
              "Unknown              353            6.89"
            ]
          },
          "metadata": {
            "tags": []
          },
          "execution_count": 104
        },
        {
          "output_type": "stream",
          "text": [
            "Cluster 2\n"
          ],
          "name": "stdout"
        },
        {
          "output_type": "execute_result",
          "data": {
            "text/html": [
              "<div>\n",
              "<style scoped>\n",
              "    .dataframe tbody tr th:only-of-type {\n",
              "        vertical-align: middle;\n",
              "    }\n",
              "\n",
              "    .dataframe tbody tr th {\n",
              "        vertical-align: top;\n",
              "    }\n",
              "\n",
              "    .dataframe thead th {\n",
              "        text-align: right;\n",
              "    }\n",
              "</style>\n",
              "<table border=\"1\" class=\"dataframe\">\n",
              "  <thead>\n",
              "    <tr style=\"text-align: right;\">\n",
              "      <th></th>\n",
              "      <th>Marital_Status</th>\n",
              "      <th>Marital_Status</th>\n",
              "    </tr>\n",
              "  </thead>\n",
              "  <tbody>\n",
              "    <tr>\n",
              "      <th>Married</th>\n",
              "      <td>1631</td>\n",
              "      <td>43.59</td>\n",
              "    </tr>\n",
              "    <tr>\n",
              "      <th>Single</th>\n",
              "      <td>1543</td>\n",
              "      <td>41.23</td>\n",
              "    </tr>\n",
              "    <tr>\n",
              "      <th>Unknown</th>\n",
              "      <td>287</td>\n",
              "      <td>7.67</td>\n",
              "    </tr>\n",
              "    <tr>\n",
              "      <th>Divorced</th>\n",
              "      <td>281</td>\n",
              "      <td>7.51</td>\n",
              "    </tr>\n",
              "  </tbody>\n",
              "</table>\n",
              "</div>"
            ],
            "text/plain": [
              "          Marital_Status  Marital_Status\n",
              "Married             1631           43.59\n",
              "Single              1543           41.23\n",
              "Unknown              287            7.67\n",
              "Divorced             281            7.51"
            ]
          },
          "metadata": {
            "tags": []
          },
          "execution_count": 104
        },
        {
          "output_type": "stream",
          "text": [
            "Cluster 3\n"
          ],
          "name": "stdout"
        },
        {
          "output_type": "execute_result",
          "data": {
            "text/html": [
              "<div>\n",
              "<style scoped>\n",
              "    .dataframe tbody tr th:only-of-type {\n",
              "        vertical-align: middle;\n",
              "    }\n",
              "\n",
              "    .dataframe tbody tr th {\n",
              "        vertical-align: top;\n",
              "    }\n",
              "\n",
              "    .dataframe thead th {\n",
              "        text-align: right;\n",
              "    }\n",
              "</style>\n",
              "<table border=\"1\" class=\"dataframe\">\n",
              "  <thead>\n",
              "    <tr style=\"text-align: right;\">\n",
              "      <th></th>\n",
              "      <th>Marital_Status</th>\n",
              "      <th>Marital_Status</th>\n",
              "    </tr>\n",
              "  </thead>\n",
              "  <tbody>\n",
              "    <tr>\n",
              "      <th>Married</th>\n",
              "      <td>538</td>\n",
              "      <td>42.63</td>\n",
              "    </tr>\n",
              "    <tr>\n",
              "      <th>Single</th>\n",
              "      <td>518</td>\n",
              "      <td>41.05</td>\n",
              "    </tr>\n",
              "    <tr>\n",
              "      <th>Unknown</th>\n",
              "      <td>109</td>\n",
              "      <td>8.64</td>\n",
              "    </tr>\n",
              "    <tr>\n",
              "      <th>Divorced</th>\n",
              "      <td>97</td>\n",
              "      <td>7.69</td>\n",
              "    </tr>\n",
              "  </tbody>\n",
              "</table>\n",
              "</div>"
            ],
            "text/plain": [
              "          Marital_Status  Marital_Status\n",
              "Married              538           42.63\n",
              "Single               518           41.05\n",
              "Unknown              109            8.64\n",
              "Divorced              97            7.69"
            ]
          },
          "metadata": {
            "tags": []
          },
          "execution_count": 104
        },
        {
          "output_type": "stream",
          "text": [
            "Cluster 1\n"
          ],
          "name": "stdout"
        },
        {
          "output_type": "execute_result",
          "data": {
            "text/html": [
              "<div>\n",
              "<style scoped>\n",
              "    .dataframe tbody tr th:only-of-type {\n",
              "        vertical-align: middle;\n",
              "    }\n",
              "\n",
              "    .dataframe tbody tr th {\n",
              "        vertical-align: top;\n",
              "    }\n",
              "\n",
              "    .dataframe thead th {\n",
              "        text-align: right;\n",
              "    }\n",
              "</style>\n",
              "<table border=\"1\" class=\"dataframe\">\n",
              "  <thead>\n",
              "    <tr style=\"text-align: right;\">\n",
              "      <th></th>\n",
              "      <th>Income_Category</th>\n",
              "      <th>Income_Category</th>\n",
              "    </tr>\n",
              "  </thead>\n",
              "  <tbody>\n",
              "    <tr>\n",
              "      <th>Less than $40K</th>\n",
              "      <td>2140</td>\n",
              "      <td>41.77</td>\n",
              "    </tr>\n",
              "    <tr>\n",
              "      <th>$40K - $60K</th>\n",
              "      <td>1015</td>\n",
              "      <td>19.81</td>\n",
              "    </tr>\n",
              "    <tr>\n",
              "      <th>$60K - $80K</th>\n",
              "      <td>593</td>\n",
              "      <td>11.58</td>\n",
              "    </tr>\n",
              "    <tr>\n",
              "      <th>$80K - $120K</th>\n",
              "      <td>588</td>\n",
              "      <td>11.48</td>\n",
              "    </tr>\n",
              "    <tr>\n",
              "      <th>Unknown</th>\n",
              "      <td>535</td>\n",
              "      <td>10.44</td>\n",
              "    </tr>\n",
              "    <tr>\n",
              "      <th>$120K +</th>\n",
              "      <td>252</td>\n",
              "      <td>4.92</td>\n",
              "    </tr>\n",
              "  </tbody>\n",
              "</table>\n",
              "</div>"
            ],
            "text/plain": [
              "                Income_Category  Income_Category\n",
              "Less than $40K             2140            41.77\n",
              "$40K - $60K                1015            19.81\n",
              "$60K - $80K                 593            11.58\n",
              "$80K - $120K                588            11.48\n",
              "Unknown                     535            10.44\n",
              "$120K +                     252             4.92"
            ]
          },
          "metadata": {
            "tags": []
          },
          "execution_count": 104
        },
        {
          "output_type": "stream",
          "text": [
            "Cluster 2\n"
          ],
          "name": "stdout"
        },
        {
          "output_type": "execute_result",
          "data": {
            "text/html": [
              "<div>\n",
              "<style scoped>\n",
              "    .dataframe tbody tr th:only-of-type {\n",
              "        vertical-align: middle;\n",
              "    }\n",
              "\n",
              "    .dataframe tbody tr th {\n",
              "        vertical-align: top;\n",
              "    }\n",
              "\n",
              "    .dataframe thead th {\n",
              "        text-align: right;\n",
              "    }\n",
              "</style>\n",
              "<table border=\"1\" class=\"dataframe\">\n",
              "  <thead>\n",
              "    <tr style=\"text-align: right;\">\n",
              "      <th></th>\n",
              "      <th>Income_Category</th>\n",
              "      <th>Income_Category</th>\n",
              "    </tr>\n",
              "  </thead>\n",
              "  <tbody>\n",
              "    <tr>\n",
              "      <th>Less than $40K</th>\n",
              "      <td>1123</td>\n",
              "      <td>30.01</td>\n",
              "    </tr>\n",
              "    <tr>\n",
              "      <th>$80K - $120K</th>\n",
              "      <td>665</td>\n",
              "      <td>17.77</td>\n",
              "    </tr>\n",
              "    <tr>\n",
              "      <th>$60K - $80K</th>\n",
              "      <td>591</td>\n",
              "      <td>15.79</td>\n",
              "    </tr>\n",
              "    <tr>\n",
              "      <th>$40K - $60K</th>\n",
              "      <td>573</td>\n",
              "      <td>15.31</td>\n",
              "    </tr>\n",
              "    <tr>\n",
              "      <th>Unknown</th>\n",
              "      <td>469</td>\n",
              "      <td>12.53</td>\n",
              "    </tr>\n",
              "    <tr>\n",
              "      <th>$120K +</th>\n",
              "      <td>321</td>\n",
              "      <td>8.58</td>\n",
              "    </tr>\n",
              "  </tbody>\n",
              "</table>\n",
              "</div>"
            ],
            "text/plain": [
              "                Income_Category  Income_Category\n",
              "Less than $40K             1123            30.01\n",
              "$80K - $120K                665            17.77\n",
              "$60K - $80K                 591            15.79\n",
              "$40K - $60K                 573            15.31\n",
              "Unknown                     469            12.53\n",
              "$120K +                     321             8.58"
            ]
          },
          "metadata": {
            "tags": []
          },
          "execution_count": 104
        },
        {
          "output_type": "stream",
          "text": [
            "Cluster 3\n"
          ],
          "name": "stdout"
        },
        {
          "output_type": "execute_result",
          "data": {
            "text/html": [
              "<div>\n",
              "<style scoped>\n",
              "    .dataframe tbody tr th:only-of-type {\n",
              "        vertical-align: middle;\n",
              "    }\n",
              "\n",
              "    .dataframe tbody tr th {\n",
              "        vertical-align: top;\n",
              "    }\n",
              "\n",
              "    .dataframe thead th {\n",
              "        text-align: right;\n",
              "    }\n",
              "</style>\n",
              "<table border=\"1\" class=\"dataframe\">\n",
              "  <thead>\n",
              "    <tr style=\"text-align: right;\">\n",
              "      <th></th>\n",
              "      <th>Income_Category</th>\n",
              "      <th>Income_Category</th>\n",
              "    </tr>\n",
              "  </thead>\n",
              "  <tbody>\n",
              "    <tr>\n",
              "      <th>Less than $40K</th>\n",
              "      <td>298</td>\n",
              "      <td>23.61</td>\n",
              "    </tr>\n",
              "    <tr>\n",
              "      <th>$80K - $120K</th>\n",
              "      <td>282</td>\n",
              "      <td>22.35</td>\n",
              "    </tr>\n",
              "    <tr>\n",
              "      <th>$60K - $80K</th>\n",
              "      <td>218</td>\n",
              "      <td>17.27</td>\n",
              "    </tr>\n",
              "    <tr>\n",
              "      <th>$40K - $60K</th>\n",
              "      <td>202</td>\n",
              "      <td>16.01</td>\n",
              "    </tr>\n",
              "    <tr>\n",
              "      <th>$120K +</th>\n",
              "      <td>154</td>\n",
              "      <td>12.20</td>\n",
              "    </tr>\n",
              "    <tr>\n",
              "      <th>Unknown</th>\n",
              "      <td>108</td>\n",
              "      <td>8.56</td>\n",
              "    </tr>\n",
              "  </tbody>\n",
              "</table>\n",
              "</div>"
            ],
            "text/plain": [
              "                Income_Category  Income_Category\n",
              "Less than $40K              298            23.61\n",
              "$80K - $120K                282            22.35\n",
              "$60K - $80K                 218            17.27\n",
              "$40K - $60K                 202            16.01\n",
              "$120K +                     154            12.20\n",
              "Unknown                     108             8.56"
            ]
          },
          "metadata": {
            "tags": []
          },
          "execution_count": 104
        },
        {
          "output_type": "stream",
          "text": [
            "Cluster 1\n"
          ],
          "name": "stdout"
        },
        {
          "output_type": "execute_result",
          "data": {
            "text/html": [
              "<div>\n",
              "<style scoped>\n",
              "    .dataframe tbody tr th:only-of-type {\n",
              "        vertical-align: middle;\n",
              "    }\n",
              "\n",
              "    .dataframe tbody tr th {\n",
              "        vertical-align: top;\n",
              "    }\n",
              "\n",
              "    .dataframe thead th {\n",
              "        text-align: right;\n",
              "    }\n",
              "</style>\n",
              "<table border=\"1\" class=\"dataframe\">\n",
              "  <thead>\n",
              "    <tr style=\"text-align: right;\">\n",
              "      <th></th>\n",
              "      <th>Card_Category</th>\n",
              "      <th>Card_Category</th>\n",
              "    </tr>\n",
              "  </thead>\n",
              "  <tbody>\n",
              "    <tr>\n",
              "      <th>Rewards Basic</th>\n",
              "      <td>4991</td>\n",
              "      <td>97.42</td>\n",
              "    </tr>\n",
              "    <tr>\n",
              "      <th>Avion Visa Infinite</th>\n",
              "      <td>110</td>\n",
              "      <td>2.15</td>\n",
              "    </tr>\n",
              "    <tr>\n",
              "      <th>World Elite MasterCard</th>\n",
              "      <td>20</td>\n",
              "      <td>0.39</td>\n",
              "    </tr>\n",
              "    <tr>\n",
              "      <th>Visa Infinite Privilege</th>\n",
              "      <td>2</td>\n",
              "      <td>0.04</td>\n",
              "    </tr>\n",
              "  </tbody>\n",
              "</table>\n",
              "</div>"
            ],
            "text/plain": [
              "                         Card_Category  Card_Category\n",
              "Rewards Basic                     4991          97.42\n",
              "Avion Visa Infinite                110           2.15\n",
              "World Elite MasterCard              20           0.39\n",
              "Visa Infinite Privilege              2           0.04"
            ]
          },
          "metadata": {
            "tags": []
          },
          "execution_count": 104
        },
        {
          "output_type": "stream",
          "text": [
            "Cluster 2\n"
          ],
          "name": "stdout"
        },
        {
          "output_type": "execute_result",
          "data": {
            "text/html": [
              "<div>\n",
              "<style scoped>\n",
              "    .dataframe tbody tr th:only-of-type {\n",
              "        vertical-align: middle;\n",
              "    }\n",
              "\n",
              "    .dataframe tbody tr th {\n",
              "        vertical-align: top;\n",
              "    }\n",
              "\n",
              "    .dataframe thead th {\n",
              "        text-align: right;\n",
              "    }\n",
              "</style>\n",
              "<table border=\"1\" class=\"dataframe\">\n",
              "  <thead>\n",
              "    <tr style=\"text-align: right;\">\n",
              "      <th></th>\n",
              "      <th>Card_Category</th>\n",
              "      <th>Card_Category</th>\n",
              "    </tr>\n",
              "  </thead>\n",
              "  <tbody>\n",
              "    <tr>\n",
              "      <th>Rewards Basic</th>\n",
              "      <td>3502</td>\n",
              "      <td>93.59</td>\n",
              "    </tr>\n",
              "    <tr>\n",
              "      <th>Avion Visa Infinite</th>\n",
              "      <td>213</td>\n",
              "      <td>5.69</td>\n",
              "    </tr>\n",
              "    <tr>\n",
              "      <th>World Elite MasterCard</th>\n",
              "      <td>23</td>\n",
              "      <td>0.61</td>\n",
              "    </tr>\n",
              "    <tr>\n",
              "      <th>Visa Infinite Privilege</th>\n",
              "      <td>4</td>\n",
              "      <td>0.11</td>\n",
              "    </tr>\n",
              "  </tbody>\n",
              "</table>\n",
              "</div>"
            ],
            "text/plain": [
              "                         Card_Category  Card_Category\n",
              "Rewards Basic                     3502          93.59\n",
              "Avion Visa Infinite                213           5.69\n",
              "World Elite MasterCard              23           0.61\n",
              "Visa Infinite Privilege              4           0.11"
            ]
          },
          "metadata": {
            "tags": []
          },
          "execution_count": 104
        },
        {
          "output_type": "stream",
          "text": [
            "Cluster 3\n"
          ],
          "name": "stdout"
        },
        {
          "output_type": "execute_result",
          "data": {
            "text/html": [
              "<div>\n",
              "<style scoped>\n",
              "    .dataframe tbody tr th:only-of-type {\n",
              "        vertical-align: middle;\n",
              "    }\n",
              "\n",
              "    .dataframe tbody tr th {\n",
              "        vertical-align: top;\n",
              "    }\n",
              "\n",
              "    .dataframe thead th {\n",
              "        text-align: right;\n",
              "    }\n",
              "</style>\n",
              "<table border=\"1\" class=\"dataframe\">\n",
              "  <thead>\n",
              "    <tr style=\"text-align: right;\">\n",
              "      <th></th>\n",
              "      <th>Card_Category</th>\n",
              "      <th>Card_Category</th>\n",
              "    </tr>\n",
              "  </thead>\n",
              "  <tbody>\n",
              "    <tr>\n",
              "      <th>Rewards Basic</th>\n",
              "      <td>943</td>\n",
              "      <td>74.72</td>\n",
              "    </tr>\n",
              "    <tr>\n",
              "      <th>Avion Visa Infinite</th>\n",
              "      <td>232</td>\n",
              "      <td>18.38</td>\n",
              "    </tr>\n",
              "    <tr>\n",
              "      <th>World Elite MasterCard</th>\n",
              "      <td>73</td>\n",
              "      <td>5.78</td>\n",
              "    </tr>\n",
              "    <tr>\n",
              "      <th>Visa Infinite Privilege</th>\n",
              "      <td>14</td>\n",
              "      <td>1.11</td>\n",
              "    </tr>\n",
              "  </tbody>\n",
              "</table>\n",
              "</div>"
            ],
            "text/plain": [
              "                         Card_Category  Card_Category\n",
              "Rewards Basic                      943          74.72\n",
              "Avion Visa Infinite                232          18.38\n",
              "World Elite MasterCard              73           5.78\n",
              "Visa Infinite Privilege             14           1.11"
            ]
          },
          "metadata": {
            "tags": []
          },
          "execution_count": 104
        }
      ]
    },
    {
      "cell_type": "code",
      "metadata": {
        "colab": {
          "base_uri": "https://localhost:8080/"
        },
        "id": "V31yZTJFCSnU",
        "outputId": "4ae6798a-6c95-407b-a2d0-47df1d112d10"
      },
      "source": [
        "#pd.set_option(\"display.precision\", 2)\n",
        "#pd.set_option('display.float_format', lambda x: '%.2f' % x)\n",
        "\n",
        "#print('All Data:')\n",
        "#print('Number of Instances: {}'.format(df[num_cols].shape[0]))\n",
        "#all_summary = df.describe(exclude=\"O\").T\n",
        "#all_summary.iloc[:,1:]\n",
        "\n",
        "x = pd.DataFrame()\n",
        "for i, label in enumerate(set(predicted_labels)):\n",
        "  d = df_new[df_new.predicted_label==label]\n",
        "\n",
        "  x.loc[:,label] = d.describe(exclude='O').iloc[1:,0:len(num_cols)].T.iloc[:,0]\n",
        "print(x)"
      ],
      "execution_count": null,
      "outputs": [
        {
          "output_type": "stream",
          "text": [
            "                               0       1        2\n",
            "Customer_Age               46.47   46.38    45.58\n",
            "Total_Relationship_Count    4.12    3.93     2.20\n",
            "Months_Inactive_12_mon      2.31    2.43     2.21\n",
            "Credit_Limit             5761.29 9926.94 16445.37\n",
            "Total_Revolving_Bal      1690.74  335.75  1472.09\n",
            "Total_Trans_Amt          3381.47 3326.10 11751.69\n",
            "Total_Trans_Ct             61.05   57.97   100.76\n",
            "Profit                    293.43   63.86   330.76\n",
            "Avg_Utilization_Ratio       0.47    0.04     0.16\n"
          ],
          "name": "stdout"
        }
      ]
    },
    {
      "cell_type": "markdown",
      "metadata": {
        "id": "nORwwD-BTgaL"
      },
      "source": [
        "**More details on the clusters**"
      ]
    },
    {
      "cell_type": "code",
      "metadata": {
        "id": "GsMF2a8-0U_L",
        "colab": {
          "base_uri": "https://localhost:8080/",
          "height": 1000
        },
        "outputId": "599f0fbb-eb7c-47f9-aca0-788075d69818"
      },
      "source": [
        "pd.set_option(\"display.precision\", 2)\n",
        "pd.set_option('display.float_format', lambda x: '%.2f' % x)\n",
        "\n",
        "print('All Data:')\n",
        "print('Number of Instances: {}'.format(df[num_cols].shape[0]))\n",
        "all_summary = df.describe(exclude=\"O\").T\n",
        "all_summary.iloc[:,1:]\n",
        "\n",
        "for i, label in enumerate(set(predicted_labels)):\n",
        "  print(f'\\nCluster {label+1}')\n",
        "  print(f\"\\nNumber of Instances: {sum(df_new.predicted_label==label)}\")\n",
        "  d = df_new[df_new.predicted_label==label]\n",
        "  d.describe(exclude='O').iloc[1:,0:len(num_cols)].T"
      ],
      "execution_count": null,
      "outputs": [
        {
          "output_type": "stream",
          "text": [
            "All Data:\n",
            "Number of Instances: 10127\n"
          ],
          "name": "stdout"
        },
        {
          "output_type": "execute_result",
          "data": {
            "text/html": [
              "<div>\n",
              "<style scoped>\n",
              "    .dataframe tbody tr th:only-of-type {\n",
              "        vertical-align: middle;\n",
              "    }\n",
              "\n",
              "    .dataframe tbody tr th {\n",
              "        vertical-align: top;\n",
              "    }\n",
              "\n",
              "    .dataframe thead th {\n",
              "        text-align: right;\n",
              "    }\n",
              "</style>\n",
              "<table border=\"1\" class=\"dataframe\">\n",
              "  <thead>\n",
              "    <tr style=\"text-align: right;\">\n",
              "      <th></th>\n",
              "      <th>mean</th>\n",
              "      <th>std</th>\n",
              "      <th>min</th>\n",
              "      <th>25%</th>\n",
              "      <th>50%</th>\n",
              "      <th>75%</th>\n",
              "      <th>max</th>\n",
              "    </tr>\n",
              "  </thead>\n",
              "  <tbody>\n",
              "    <tr>\n",
              "      <th>Customer_Age</th>\n",
              "      <td>46.33</td>\n",
              "      <td>8.02</td>\n",
              "      <td>26.00</td>\n",
              "      <td>41.00</td>\n",
              "      <td>46.00</td>\n",
              "      <td>52.00</td>\n",
              "      <td>73.00</td>\n",
              "    </tr>\n",
              "    <tr>\n",
              "      <th>Total_Relationship_Count</th>\n",
              "      <td>3.81</td>\n",
              "      <td>1.55</td>\n",
              "      <td>1.00</td>\n",
              "      <td>3.00</td>\n",
              "      <td>4.00</td>\n",
              "      <td>5.00</td>\n",
              "      <td>6.00</td>\n",
              "    </tr>\n",
              "    <tr>\n",
              "      <th>Months_Inactive_12_mon</th>\n",
              "      <td>2.34</td>\n",
              "      <td>1.01</td>\n",
              "      <td>0.00</td>\n",
              "      <td>2.00</td>\n",
              "      <td>2.00</td>\n",
              "      <td>3.00</td>\n",
              "      <td>6.00</td>\n",
              "    </tr>\n",
              "    <tr>\n",
              "      <th>Credit_Limit</th>\n",
              "      <td>8631.95</td>\n",
              "      <td>9088.78</td>\n",
              "      <td>1438.30</td>\n",
              "      <td>2555.00</td>\n",
              "      <td>4549.00</td>\n",
              "      <td>11067.50</td>\n",
              "      <td>34516.00</td>\n",
              "    </tr>\n",
              "    <tr>\n",
              "      <th>Total_Revolving_Bal</th>\n",
              "      <td>1162.81</td>\n",
              "      <td>814.99</td>\n",
              "      <td>0.00</td>\n",
              "      <td>359.00</td>\n",
              "      <td>1276.00</td>\n",
              "      <td>1784.00</td>\n",
              "      <td>2517.00</td>\n",
              "    </tr>\n",
              "    <tr>\n",
              "      <th>Total_Trans_Amt</th>\n",
              "      <td>4404.09</td>\n",
              "      <td>3397.13</td>\n",
              "      <td>510.00</td>\n",
              "      <td>2155.50</td>\n",
              "      <td>3899.00</td>\n",
              "      <td>4741.00</td>\n",
              "      <td>18484.00</td>\n",
              "    </tr>\n",
              "    <tr>\n",
              "      <th>Total_Trans_Ct</th>\n",
              "      <td>64.86</td>\n",
              "      <td>23.47</td>\n",
              "      <td>10.00</td>\n",
              "      <td>45.00</td>\n",
              "      <td>67.00</td>\n",
              "      <td>81.00</td>\n",
              "      <td>139.00</td>\n",
              "    </tr>\n",
              "    <tr>\n",
              "      <th>Profit</th>\n",
              "      <td>213.25</td>\n",
              "      <td>143.90</td>\n",
              "      <td>-20.45</td>\n",
              "      <td>93.96</td>\n",
              "      <td>231.82</td>\n",
              "      <td>322.97</td>\n",
              "      <td>660.14</td>\n",
              "    </tr>\n",
              "    <tr>\n",
              "      <th>Avg_Utilization_Ratio</th>\n",
              "      <td>0.27</td>\n",
              "      <td>0.28</td>\n",
              "      <td>0.00</td>\n",
              "      <td>0.02</td>\n",
              "      <td>0.18</td>\n",
              "      <td>0.50</td>\n",
              "      <td>1.00</td>\n",
              "    </tr>\n",
              "  </tbody>\n",
              "</table>\n",
              "</div>"
            ],
            "text/plain": [
              "                            mean     std     min  ...     50%      75%      max\n",
              "Customer_Age               46.33    8.02   26.00  ...   46.00    52.00    73.00\n",
              "Total_Relationship_Count    3.81    1.55    1.00  ...    4.00     5.00     6.00\n",
              "Months_Inactive_12_mon      2.34    1.01    0.00  ...    2.00     3.00     6.00\n",
              "Credit_Limit             8631.95 9088.78 1438.30  ... 4549.00 11067.50 34516.00\n",
              "Total_Revolving_Bal      1162.81  814.99    0.00  ... 1276.00  1784.00  2517.00\n",
              "Total_Trans_Amt          4404.09 3397.13  510.00  ... 3899.00  4741.00 18484.00\n",
              "Total_Trans_Ct             64.86   23.47   10.00  ...   67.00    81.00   139.00\n",
              "Profit                    213.25  143.90  -20.45  ...  231.82   322.97   660.14\n",
              "Avg_Utilization_Ratio       0.27    0.28    0.00  ...    0.18     0.50     1.00\n",
              "\n",
              "[9 rows x 7 columns]"
            ]
          },
          "metadata": {
            "tags": []
          },
          "execution_count": 106
        },
        {
          "output_type": "stream",
          "text": [
            "\n",
            "Cluster 1\n",
            "\n",
            "Number of Instances: 5123\n"
          ],
          "name": "stdout"
        },
        {
          "output_type": "execute_result",
          "data": {
            "text/html": [
              "<div>\n",
              "<style scoped>\n",
              "    .dataframe tbody tr th:only-of-type {\n",
              "        vertical-align: middle;\n",
              "    }\n",
              "\n",
              "    .dataframe tbody tr th {\n",
              "        vertical-align: top;\n",
              "    }\n",
              "\n",
              "    .dataframe thead th {\n",
              "        text-align: right;\n",
              "    }\n",
              "</style>\n",
              "<table border=\"1\" class=\"dataframe\">\n",
              "  <thead>\n",
              "    <tr style=\"text-align: right;\">\n",
              "      <th></th>\n",
              "      <th>mean</th>\n",
              "      <th>std</th>\n",
              "      <th>min</th>\n",
              "      <th>25%</th>\n",
              "      <th>50%</th>\n",
              "      <th>75%</th>\n",
              "      <th>max</th>\n",
              "    </tr>\n",
              "  </thead>\n",
              "  <tbody>\n",
              "    <tr>\n",
              "      <th>Customer_Age</th>\n",
              "      <td>46.47</td>\n",
              "      <td>8.28</td>\n",
              "      <td>26.00</td>\n",
              "      <td>41.00</td>\n",
              "      <td>46.00</td>\n",
              "      <td>52.00</td>\n",
              "      <td>73.00</td>\n",
              "    </tr>\n",
              "    <tr>\n",
              "      <th>Total_Relationship_Count</th>\n",
              "      <td>4.12</td>\n",
              "      <td>1.44</td>\n",
              "      <td>1.00</td>\n",
              "      <td>3.00</td>\n",
              "      <td>4.00</td>\n",
              "      <td>5.00</td>\n",
              "      <td>6.00</td>\n",
              "    </tr>\n",
              "    <tr>\n",
              "      <th>Months_Inactive_12_mon</th>\n",
              "      <td>2.31</td>\n",
              "      <td>1.02</td>\n",
              "      <td>0.00</td>\n",
              "      <td>2.00</td>\n",
              "      <td>2.00</td>\n",
              "      <td>3.00</td>\n",
              "      <td>6.00</td>\n",
              "    </tr>\n",
              "    <tr>\n",
              "      <th>Credit_Limit</th>\n",
              "      <td>5761.29</td>\n",
              "      <td>6068.75</td>\n",
              "      <td>1438.30</td>\n",
              "      <td>2427.00</td>\n",
              "      <td>3230.00</td>\n",
              "      <td>6470.50</td>\n",
              "      <td>34516.00</td>\n",
              "    </tr>\n",
              "    <tr>\n",
              "      <th>Total_Revolving_Bal</th>\n",
              "      <td>1690.74</td>\n",
              "      <td>481.21</td>\n",
              "      <td>604.00</td>\n",
              "      <td>1338.50</td>\n",
              "      <td>1664.00</td>\n",
              "      <td>2035.00</td>\n",
              "      <td>2517.00</td>\n",
              "    </tr>\n",
              "    <tr>\n",
              "      <th>Total_Trans_Amt</th>\n",
              "      <td>3381.47</td>\n",
              "      <td>1449.25</td>\n",
              "      <td>569.00</td>\n",
              "      <td>1984.50</td>\n",
              "      <td>3739.00</td>\n",
              "      <td>4494.00</td>\n",
              "      <td>10294.00</td>\n",
              "    </tr>\n",
              "    <tr>\n",
              "      <th>Total_Trans_Ct</th>\n",
              "      <td>61.05</td>\n",
              "      <td>19.53</td>\n",
              "      <td>12.00</td>\n",
              "      <td>44.00</td>\n",
              "      <td>65.00</td>\n",
              "      <td>77.00</td>\n",
              "      <td>103.00</td>\n",
              "    </tr>\n",
              "    <tr>\n",
              "      <th>Profit</th>\n",
              "      <td>293.43</td>\n",
              "      <td>81.36</td>\n",
              "      <td>100.34</td>\n",
              "      <td>234.31</td>\n",
              "      <td>287.18</td>\n",
              "      <td>352.93</td>\n",
              "      <td>518.00</td>\n",
              "    </tr>\n",
              "    <tr>\n",
              "      <th>Avg_Utilization_Ratio</th>\n",
              "      <td>0.47</td>\n",
              "      <td>0.24</td>\n",
              "      <td>0.04</td>\n",
              "      <td>0.26</td>\n",
              "      <td>0.49</td>\n",
              "      <td>0.67</td>\n",
              "      <td>1.00</td>\n",
              "    </tr>\n",
              "  </tbody>\n",
              "</table>\n",
              "</div>"
            ],
            "text/plain": [
              "                            mean     std     min  ...     50%     75%      max\n",
              "Customer_Age               46.47    8.28   26.00  ...   46.00   52.00    73.00\n",
              "Total_Relationship_Count    4.12    1.44    1.00  ...    4.00    5.00     6.00\n",
              "Months_Inactive_12_mon      2.31    1.02    0.00  ...    2.00    3.00     6.00\n",
              "Credit_Limit             5761.29 6068.75 1438.30  ... 3230.00 6470.50 34516.00\n",
              "Total_Revolving_Bal      1690.74  481.21  604.00  ... 1664.00 2035.00  2517.00\n",
              "Total_Trans_Amt          3381.47 1449.25  569.00  ... 3739.00 4494.00 10294.00\n",
              "Total_Trans_Ct             61.05   19.53   12.00  ...   65.00   77.00   103.00\n",
              "Profit                    293.43   81.36  100.34  ...  287.18  352.93   518.00\n",
              "Avg_Utilization_Ratio       0.47    0.24    0.04  ...    0.49    0.67     1.00\n",
              "\n",
              "[9 rows x 7 columns]"
            ]
          },
          "metadata": {
            "tags": []
          },
          "execution_count": 106
        },
        {
          "output_type": "stream",
          "text": [
            "\n",
            "Cluster 2\n",
            "\n",
            "Number of Instances: 3742\n"
          ],
          "name": "stdout"
        },
        {
          "output_type": "execute_result",
          "data": {
            "text/html": [
              "<div>\n",
              "<style scoped>\n",
              "    .dataframe tbody tr th:only-of-type {\n",
              "        vertical-align: middle;\n",
              "    }\n",
              "\n",
              "    .dataframe tbody tr th {\n",
              "        vertical-align: top;\n",
              "    }\n",
              "\n",
              "    .dataframe thead th {\n",
              "        text-align: right;\n",
              "    }\n",
              "</style>\n",
              "<table border=\"1\" class=\"dataframe\">\n",
              "  <thead>\n",
              "    <tr style=\"text-align: right;\">\n",
              "      <th></th>\n",
              "      <th>mean</th>\n",
              "      <th>std</th>\n",
              "      <th>min</th>\n",
              "      <th>25%</th>\n",
              "      <th>50%</th>\n",
              "      <th>75%</th>\n",
              "      <th>max</th>\n",
              "    </tr>\n",
              "  </thead>\n",
              "  <tbody>\n",
              "    <tr>\n",
              "      <th>Customer_Age</th>\n",
              "      <td>46.38</td>\n",
              "      <td>7.82</td>\n",
              "      <td>26.00</td>\n",
              "      <td>41.00</td>\n",
              "      <td>46.00</td>\n",
              "      <td>52.00</td>\n",
              "      <td>66.00</td>\n",
              "    </tr>\n",
              "    <tr>\n",
              "      <th>Total_Relationship_Count</th>\n",
              "      <td>3.93</td>\n",
              "      <td>1.48</td>\n",
              "      <td>1.00</td>\n",
              "      <td>3.00</td>\n",
              "      <td>4.00</td>\n",
              "      <td>5.00</td>\n",
              "      <td>6.00</td>\n",
              "    </tr>\n",
              "    <tr>\n",
              "      <th>Months_Inactive_12_mon</th>\n",
              "      <td>2.43</td>\n",
              "      <td>1.01</td>\n",
              "      <td>0.00</td>\n",
              "      <td>2.00</td>\n",
              "      <td>2.00</td>\n",
              "      <td>3.00</td>\n",
              "      <td>6.00</td>\n",
              "    </tr>\n",
              "    <tr>\n",
              "      <th>Credit_Limit</th>\n",
              "      <td>9926.94</td>\n",
              "      <td>9728.49</td>\n",
              "      <td>1438.30</td>\n",
              "      <td>2374.25</td>\n",
              "      <td>5927.00</td>\n",
              "      <td>13978.25</td>\n",
              "      <td>34516.00</td>\n",
              "    </tr>\n",
              "    <tr>\n",
              "      <th>Total_Revolving_Bal</th>\n",
              "      <td>335.75</td>\n",
              "      <td>475.67</td>\n",
              "      <td>0.00</td>\n",
              "      <td>0.00</td>\n",
              "      <td>0.00</td>\n",
              "      <td>753.75</td>\n",
              "      <td>1763.00</td>\n",
              "    </tr>\n",
              "    <tr>\n",
              "      <th>Total_Trans_Amt</th>\n",
              "      <td>3326.10</td>\n",
              "      <td>1663.89</td>\n",
              "      <td>510.00</td>\n",
              "      <td>2036.25</td>\n",
              "      <td>3195.00</td>\n",
              "      <td>4388.50</td>\n",
              "      <td>10583.00</td>\n",
              "    </tr>\n",
              "    <tr>\n",
              "      <th>Total_Trans_Ct</th>\n",
              "      <td>57.97</td>\n",
              "      <td>19.49</td>\n",
              "      <td>10.00</td>\n",
              "      <td>41.00</td>\n",
              "      <td>61.00</td>\n",
              "      <td>74.00</td>\n",
              "      <td>103.00</td>\n",
              "    </tr>\n",
              "    <tr>\n",
              "      <th>Profit</th>\n",
              "      <td>63.86</td>\n",
              "      <td>81.56</td>\n",
              "      <td>-20.45</td>\n",
              "      <td>-0.97</td>\n",
              "      <td>17.45</td>\n",
              "      <td>133.30</td>\n",
              "      <td>338.17</td>\n",
              "    </tr>\n",
              "    <tr>\n",
              "      <th>Avg_Utilization_Ratio</th>\n",
              "      <td>0.04</td>\n",
              "      <td>0.08</td>\n",
              "      <td>0.00</td>\n",
              "      <td>0.00</td>\n",
              "      <td>0.00</td>\n",
              "      <td>0.06</td>\n",
              "      <td>0.49</td>\n",
              "    </tr>\n",
              "  </tbody>\n",
              "</table>\n",
              "</div>"
            ],
            "text/plain": [
              "                            mean     std     min  ...     50%      75%      max\n",
              "Customer_Age               46.38    7.82   26.00  ...   46.00    52.00    66.00\n",
              "Total_Relationship_Count    3.93    1.48    1.00  ...    4.00     5.00     6.00\n",
              "Months_Inactive_12_mon      2.43    1.01    0.00  ...    2.00     3.00     6.00\n",
              "Credit_Limit             9926.94 9728.49 1438.30  ... 5927.00 13978.25 34516.00\n",
              "Total_Revolving_Bal       335.75  475.67    0.00  ...    0.00   753.75  1763.00\n",
              "Total_Trans_Amt          3326.10 1663.89  510.00  ... 3195.00  4388.50 10583.00\n",
              "Total_Trans_Ct             57.97   19.49   10.00  ...   61.00    74.00   103.00\n",
              "Profit                     63.86   81.56  -20.45  ...   17.45   133.30   338.17\n",
              "Avg_Utilization_Ratio       0.04    0.08    0.00  ...    0.00     0.06     0.49\n",
              "\n",
              "[9 rows x 7 columns]"
            ]
          },
          "metadata": {
            "tags": []
          },
          "execution_count": 106
        },
        {
          "output_type": "stream",
          "text": [
            "\n",
            "Cluster 3\n",
            "\n",
            "Number of Instances: 1262\n"
          ],
          "name": "stdout"
        },
        {
          "output_type": "execute_result",
          "data": {
            "text/html": [
              "<div>\n",
              "<style scoped>\n",
              "    .dataframe tbody tr th:only-of-type {\n",
              "        vertical-align: middle;\n",
              "    }\n",
              "\n",
              "    .dataframe tbody tr th {\n",
              "        vertical-align: top;\n",
              "    }\n",
              "\n",
              "    .dataframe thead th {\n",
              "        text-align: right;\n",
              "    }\n",
              "</style>\n",
              "<table border=\"1\" class=\"dataframe\">\n",
              "  <thead>\n",
              "    <tr style=\"text-align: right;\">\n",
              "      <th></th>\n",
              "      <th>mean</th>\n",
              "      <th>std</th>\n",
              "      <th>min</th>\n",
              "      <th>25%</th>\n",
              "      <th>50%</th>\n",
              "      <th>75%</th>\n",
              "      <th>max</th>\n",
              "    </tr>\n",
              "  </thead>\n",
              "  <tbody>\n",
              "    <tr>\n",
              "      <th>Customer_Age</th>\n",
              "      <td>45.58</td>\n",
              "      <td>7.43</td>\n",
              "      <td>26.00</td>\n",
              "      <td>41.00</td>\n",
              "      <td>46.00</td>\n",
              "      <td>51.00</td>\n",
              "      <td>63.00</td>\n",
              "    </tr>\n",
              "    <tr>\n",
              "      <th>Total_Relationship_Count</th>\n",
              "      <td>2.20</td>\n",
              "      <td>1.21</td>\n",
              "      <td>1.00</td>\n",
              "      <td>1.00</td>\n",
              "      <td>2.00</td>\n",
              "      <td>3.00</td>\n",
              "      <td>6.00</td>\n",
              "    </tr>\n",
              "    <tr>\n",
              "      <th>Months_Inactive_12_mon</th>\n",
              "      <td>2.21</td>\n",
              "      <td>0.97</td>\n",
              "      <td>1.00</td>\n",
              "      <td>1.00</td>\n",
              "      <td>2.00</td>\n",
              "      <td>3.00</td>\n",
              "      <td>6.00</td>\n",
              "    </tr>\n",
              "    <tr>\n",
              "      <th>Credit_Limit</th>\n",
              "      <td>16445.37</td>\n",
              "      <td>11550.22</td>\n",
              "      <td>2019.00</td>\n",
              "      <td>6130.75</td>\n",
              "      <td>12925.00</td>\n",
              "      <td>27718.00</td>\n",
              "      <td>34516.00</td>\n",
              "    </tr>\n",
              "    <tr>\n",
              "      <th>Total_Revolving_Bal</th>\n",
              "      <td>1472.09</td>\n",
              "      <td>681.15</td>\n",
              "      <td>0.00</td>\n",
              "      <td>1133.25</td>\n",
              "      <td>1532.50</td>\n",
              "      <td>1950.00</td>\n",
              "      <td>2517.00</td>\n",
              "    </tr>\n",
              "    <tr>\n",
              "      <th>Total_Trans_Amt</th>\n",
              "      <td>11751.69</td>\n",
              "      <td>3768.31</td>\n",
              "      <td>2421.00</td>\n",
              "      <td>8034.00</td>\n",
              "      <td>13645.00</td>\n",
              "      <td>14878.75</td>\n",
              "      <td>18484.00</td>\n",
              "    </tr>\n",
              "    <tr>\n",
              "      <th>Total_Trans_Ct</th>\n",
              "      <td>100.76</td>\n",
              "      <td>16.09</td>\n",
              "      <td>49.00</td>\n",
              "      <td>90.00</td>\n",
              "      <td>101.00</td>\n",
              "      <td>114.00</td>\n",
              "      <td>139.00</td>\n",
              "    </tr>\n",
              "    <tr>\n",
              "      <th>Profit</th>\n",
              "      <td>330.76</td>\n",
              "      <td>116.14</td>\n",
              "      <td>19.73</td>\n",
              "      <td>263.22</td>\n",
              "      <td>336.90</td>\n",
              "      <td>413.98</td>\n",
              "      <td>660.14</td>\n",
              "    </tr>\n",
              "    <tr>\n",
              "      <th>Avg_Utilization_Ratio</th>\n",
              "      <td>0.16</td>\n",
              "      <td>0.16</td>\n",
              "      <td>0.00</td>\n",
              "      <td>0.05</td>\n",
              "      <td>0.10</td>\n",
              "      <td>0.22</td>\n",
              "      <td>0.80</td>\n",
              "    </tr>\n",
              "  </tbody>\n",
              "</table>\n",
              "</div>"
            ],
            "text/plain": [
              "                             mean      std     min  ...      50%      75%      max\n",
              "Customer_Age                45.58     7.43   26.00  ...    46.00    51.00    63.00\n",
              "Total_Relationship_Count     2.20     1.21    1.00  ...     2.00     3.00     6.00\n",
              "Months_Inactive_12_mon       2.21     0.97    1.00  ...     2.00     3.00     6.00\n",
              "Credit_Limit             16445.37 11550.22 2019.00  ... 12925.00 27718.00 34516.00\n",
              "Total_Revolving_Bal       1472.09   681.15    0.00  ...  1532.50  1950.00  2517.00\n",
              "Total_Trans_Amt          11751.69  3768.31 2421.00  ... 13645.00 14878.75 18484.00\n",
              "Total_Trans_Ct             100.76    16.09   49.00  ...   101.00   114.00   139.00\n",
              "Profit                     330.76   116.14   19.73  ...   336.90   413.98   660.14\n",
              "Avg_Utilization_Ratio        0.16     0.16    0.00  ...     0.10     0.22     0.80\n",
              "\n",
              "[9 rows x 7 columns]"
            ]
          },
          "metadata": {
            "tags": []
          },
          "execution_count": 106
        }
      ]
    }
  ]
}